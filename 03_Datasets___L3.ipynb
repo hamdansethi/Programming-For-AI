{
  "nbformat": 4,
  "nbformat_minor": 0,
  "metadata": {
    "colab": {
      "provenance": []
    },
    "kernelspec": {
      "name": "python3",
      "display_name": "Python 3"
    },
    "language_info": {
      "name": "python"
    }
  },
  "cells": [
    {
      "cell_type": "markdown",
      "source": [
        "**MACHINE LEARNING**\n",
        "\n",
        "\n",
        "1.   Prediction/Regression\n",
        "2.   Classification\n",
        "3.   Grouping"
      ],
      "metadata": {
        "id": "u0JVjVXJoO_7"
      }
    },
    {
      "cell_type": "markdown",
      "source": [
        "Data ( Features  i.e  name ,  age ,  sem ,  etc.) ->  ML\n"
      ],
      "metadata": {
        "id": "KPpL59n6ouOI"
      }
    },
    {
      "cell_type": "markdown",
      "source": [
        "Feature Extraction/Feature Engineering (Some highly relevant, some not relevant)"
      ],
      "metadata": {
        "id": "sOk1KKQdpZGg"
      }
    },
    {
      "cell_type": "markdown",
      "source": [
        "Deep Learning does not include Feature Extraction. It extracts feature itselfs by giving weights to each data."
      ],
      "metadata": {
        "id": "IhYZH29opuqX"
      }
    },
    {
      "cell_type": "markdown",
      "source": [
        "**Data PreProcessing**\n",
        "1.  Filter\n",
        "2.  Sort\n",
        "3.  Analyze\n",
        "4.  Clean"
      ],
      "metadata": {
        "id": "RH2Bhjx6wGAD"
      }
    },
    {
      "cell_type": "code",
      "execution_count": null,
      "metadata": {
        "id": "mcKFZARuoOMK",
        "colab": {
          "base_uri": "https://localhost:8080/"
        },
        "outputId": "330f24ea-66e3-477a-809d-d2ab00026700"
      },
      "outputs": [
        {
          "name": "stdout",
          "output_type": "stream",
          "text": [
            "Enter name of student 0: Hamdan\n",
            "Enter marks of English: 80\n",
            "Enter marks of Urdu: 80\n",
            "Enter marks of Physics: 50\n",
            "Enter marks of Math: 40\n",
            "Enter name of student 1: Zeeshan\n",
            "Enter marks of English: 90\n",
            "Enter marks of Urdu: 100\n",
            "Enter marks of Physics: 40\n",
            "Enter marks of Math: 75\n",
            "Enter name of student 2: Laraib\n",
            "Enter marks of English: 10\n",
            "Enter marks of Urdu: 20\n",
            "Enter marks of Physics: 30\n",
            "Enter marks of Math: 40\n"
          ]
        },
        {
          "output_type": "execute_result",
          "data": {
            "text/plain": [
              "{'Hamdan': 'Passed', 'Zeeshan': 'Passed', 'Laraib': 'Failed'}"
            ]
          },
          "metadata": {},
          "execution_count": 7
        }
      ],
      "source": [
        "subj = (\"English\", \"Urdu\", \"Physics\", \"Math\")\n",
        "students = {}\n",
        "\n",
        "for i in range(34):\n",
        "  sum = 0\n",
        "  name = input(f\"Enter name of student {i}: \")\n",
        "  for j in range(4):\n",
        "    marks= int(input(f\"Enter marks of {subj[j]}: \"))\n",
        "    while marks>100:\n",
        "      print(\"Invalid Marks\")\n",
        "      marks= int(input(f\"Enter marks of {subj[j]} out of 100: \"))\n",
        "    sum+=marks\n",
        "    avg = sum/4\n",
        "  if avg <= 50:\n",
        "    students[name] = \"Failed\"\n",
        "  else:\n",
        "    students[name] = \"Passed\"\n",
        "\n",
        "students\n"
      ]
    },
    {
      "cell_type": "code",
      "source": [
        "import pprint"
      ],
      "metadata": {
        "id": "BLKOH6AlGqCp"
      },
      "execution_count": null,
      "outputs": []
    },
    {
      "cell_type": "code",
      "source": [
        "subj = (\"English\", \"Urdu\", \"Physics\", \"Math\")\n",
        "students = {}\n",
        "\n",
        "for i in range(1):\n",
        "  sum = 0\n",
        "  name = input(f\"Enter name of student {i}: \")\n",
        "  students[name] = {}\n",
        "  students[name][\"Marks\"] = {}\n",
        "\n",
        "  for j in range(4):\n",
        "    marks= int(input(f\"Enter marks of {subj[j]}: \"))\n",
        "    while marks>100:\n",
        "      print(\"Invalid Marks\")\n",
        "      marks= int(input(f\"Enter marks of {subj[j]} out of 100: \"))\n",
        "    students[name][\"Marks\"][subj[j]] = marks\n",
        "    sum+=marks\n",
        "    avg = sum/4\n",
        "  if avg <= 50:\n",
        "    students[name][\"Status\"] = \"Failed\"\n",
        "  else:\n",
        "    students[name][\"Status\"] = \"Passed\"\n",
        "\n",
        "students\n"
      ],
      "metadata": {
        "colab": {
          "base_uri": "https://localhost:8080/"
        },
        "id": "OHgGzjJNELSX",
        "outputId": "1ff2e6e8-5f53-43b5-c6ea-bd7e550ac174"
      },
      "execution_count": null,
      "outputs": [
        {
          "name": "stdout",
          "output_type": "stream",
          "text": [
            "Enter name of student 0: Hamdan\n",
            "Enter marks of English: 80\n",
            "Enter marks of Urdu: 90\n",
            "Enter marks of Physics: 100\n",
            "Enter marks of Math: 100\n"
          ]
        },
        {
          "output_type": "execute_result",
          "data": {
            "text/plain": [
              "{'Hamdan': {'Marks': {'English': 80, 'Urdu': 90, 'Physics': 100, 'Math': 100},\n",
              "  'Status': 'Passed'}}"
            ]
          },
          "metadata": {},
          "execution_count": 19
        }
      ]
    },
    {
      "cell_type": "code",
      "source": [
        "pprint.pprint(students)\n"
      ],
      "metadata": {
        "colab": {
          "base_uri": "https://localhost:8080/"
        },
        "id": "fYKe6ZiiGs7g",
        "outputId": "2951a297-03c3-42e1-9020-414c82640021"
      },
      "execution_count": null,
      "outputs": [
        {
          "output_type": "stream",
          "name": "stdout",
          "text": [
            "{'Hamdan': {'Marks': {'English': 80, 'Math': 100, 'Physics': 100, 'Urdu': 90},\n",
            "            'Status': 'Passed'}}\n"
          ]
        }
      ]
    },
    {
      "cell_type": "code",
      "source": [
        "list1 = []\n",
        "list2 = []\n",
        "list3 = []\n",
        "\n",
        "for i in range(4):\n",
        " list1.append(int(input(f'Enter Value At Index {i}: ')))\n",
        "for i in range(3):\n",
        " list2.append(int(input(f'Enter Value At Index {i}: ')))\n",
        "\n",
        "for i in range(7):\n",
        "  if i<4:\n",
        "    list3.append(list1[i])\n",
        "  else:\n",
        "    list3.append(list2[i-4])\n",
        "\n",
        "list3\n"
      ],
      "metadata": {
        "colab": {
          "base_uri": "https://localhost:8080/"
        },
        "id": "rYC1Dx_iGwAY",
        "outputId": "41c5187c-e135-431c-d1c1-6d16985aeb09"
      },
      "execution_count": null,
      "outputs": [
        {
          "name": "stdout",
          "output_type": "stream",
          "text": [
            "Enter Value At Index 0: 1\n",
            "Enter Value At Index 1: 2\n",
            "Enter Value At Index 2: 3\n",
            "Enter Value At Index 3: 4\n",
            "Enter Value At Index 0: 5\n",
            "Enter Value At Index 1: 6\n",
            "Enter Value At Index 2: 7\n"
          ]
        },
        {
          "output_type": "execute_result",
          "data": {
            "text/plain": [
              "[1, 2, 3, 4, 5, 6, 7]"
            ]
          },
          "metadata": {},
          "execution_count": 23
        }
      ]
    },
    {
      "cell_type": "code",
      "source": [
        "list1 = []\n",
        "list2 = []\n",
        "list3 = []\n",
        "\n",
        "for i in range(4):\n",
        " list1.append(int(input(f'Enter Value At Index {i}: ')))\n",
        "for i in range(3):\n",
        " list2.append(int(input(f'Enter Value At Index {i}: ')))\n",
        "\n",
        "list3 = list1 + list2\n",
        "\n",
        "list3"
      ],
      "metadata": {
        "colab": {
          "base_uri": "https://localhost:8080/"
        },
        "id": "pw1aksnDJVNN",
        "outputId": "6f674d1e-52d4-449e-abf6-2b35d8bbb54e"
      },
      "execution_count": null,
      "outputs": [
        {
          "name": "stdout",
          "output_type": "stream",
          "text": [
            "Enter Value At Index 0: 1\n",
            "Enter Value At Index 1: 2\n",
            "Enter Value At Index 2: 3\n",
            "Enter Value At Index 3: 4\n",
            "Enter Value At Index 0: 5\n",
            "Enter Value At Index 1: 6\n",
            "Enter Value At Index 2: 7\n"
          ]
        },
        {
          "output_type": "execute_result",
          "data": {
            "text/plain": [
              "[1, 2, 3, 4, 5, 6, 7]"
            ]
          },
          "metadata": {},
          "execution_count": 27
        }
      ]
    },
    {
      "cell_type": "markdown",
      "source": [
        "## **List Slicing**"
      ],
      "metadata": {
        "id": "zyIZzBEALf2b"
      }
    },
    {
      "cell_type": "code",
      "source": [
        "list3[2:]"
      ],
      "metadata": {
        "colab": {
          "base_uri": "https://localhost:8080/"
        },
        "id": "4xcAezIoLiLz",
        "outputId": "e8a50068-2d31-4c3a-dff5-af61df486bdc"
      },
      "execution_count": null,
      "outputs": [
        {
          "output_type": "execute_result",
          "data": {
            "text/plain": [
              "[3, 4, 5, 6, 7]"
            ]
          },
          "metadata": {},
          "execution_count": 28
        }
      ]
    },
    {
      "cell_type": "code",
      "source": [
        "list3[:-2]"
      ],
      "metadata": {
        "colab": {
          "base_uri": "https://localhost:8080/"
        },
        "id": "J51AlEPRLlbq",
        "outputId": "a60e1069-5103-453e-e62a-2f7af2a0b179"
      },
      "execution_count": null,
      "outputs": [
        {
          "output_type": "execute_result",
          "data": {
            "text/plain": [
              "[1, 2, 3, 4, 5]"
            ]
          },
          "metadata": {},
          "execution_count": 30
        }
      ]
    },
    {
      "cell_type": "code",
      "source": [
        "list3[2:6]"
      ],
      "metadata": {
        "colab": {
          "base_uri": "https://localhost:8080/"
        },
        "id": "M-JytIG_LrrL",
        "outputId": "974900c8-cfd6-4ff3-cf08-c5d86745959b"
      },
      "execution_count": null,
      "outputs": [
        {
          "output_type": "execute_result",
          "data": {
            "text/plain": [
              "[3, 4, 5, 6]"
            ]
          },
          "metadata": {},
          "execution_count": 33
        }
      ]
    },
    {
      "cell_type": "code",
      "source": [
        "list3[::-1]"
      ],
      "metadata": {
        "colab": {
          "base_uri": "https://localhost:8080/"
        },
        "id": "Cz3ikXqTMSNB",
        "outputId": "6b0a0763-c004-4ad4-dfb0-af231a7fdf9c"
      },
      "execution_count": null,
      "outputs": [
        {
          "output_type": "execute_result",
          "data": {
            "text/plain": [
              "[7, 6, 5, 4, 3, 2, 1]"
            ]
          },
          "metadata": {},
          "execution_count": 34
        }
      ]
    },
    {
      "cell_type": "code",
      "source": [
        "list3[::3]"
      ],
      "metadata": {
        "colab": {
          "base_uri": "https://localhost:8080/"
        },
        "id": "PMoSr-CkOtnH",
        "outputId": "c11be7a1-1203-4f08-f9d1-47310d4d6f16"
      },
      "execution_count": null,
      "outputs": [
        {
          "output_type": "execute_result",
          "data": {
            "text/plain": [
              "[1, 4, 7]"
            ]
          },
          "metadata": {},
          "execution_count": 36
        }
      ]
    },
    {
      "cell_type": "code",
      "source": [
        "list3[3::]"
      ],
      "metadata": {
        "colab": {
          "base_uri": "https://localhost:8080/"
        },
        "id": "O04b4seFOxBF",
        "outputId": "d821772e-09d3-4c8e-8799-f78b697c45d9"
      },
      "execution_count": null,
      "outputs": [
        {
          "output_type": "execute_result",
          "data": {
            "text/plain": [
              "[4, 5, 6, 7]"
            ]
          },
          "metadata": {},
          "execution_count": 37
        }
      ]
    },
    {
      "cell_type": "code",
      "source": [
        "list3[1::-1]"
      ],
      "metadata": {
        "colab": {
          "base_uri": "https://localhost:8080/"
        },
        "id": "rM3C_vbjO_IG",
        "outputId": "fe265cef-a504-40d6-d7c3-6b4502ba9370"
      },
      "execution_count": null,
      "outputs": [
        {
          "output_type": "execute_result",
          "data": {
            "text/plain": [
              "[2, 1]"
            ]
          },
          "metadata": {},
          "execution_count": 44
        }
      ]
    },
    {
      "cell_type": "markdown",
      "source": [
        "## **Dictionaries**"
      ],
      "metadata": {
        "id": "l86PSyXAPaHG"
      }
    },
    {
      "cell_type": "code",
      "source": [
        "dixt1 = {\"G1\": (1,2,3), \"G2\": (4,5,6), \"G3\": 1, \"G4\":\"Noone\"}\n",
        "dixt1"
      ],
      "metadata": {
        "colab": {
          "base_uri": "https://localhost:8080/"
        },
        "id": "p_yQgeWOPIE-",
        "outputId": "039ca5a3-4ffc-4b6c-f705-30f56518ae07"
      },
      "execution_count": null,
      "outputs": [
        {
          "output_type": "execute_result",
          "data": {
            "text/plain": [
              "{'G1': (1, 2, 3), 'G2': (4, 5, 6), 'G3': 1, 'G4': 'Noone'}"
            ]
          },
          "metadata": {},
          "execution_count": 49
        }
      ]
    },
    {
      "cell_type": "code",
      "source": [
        "pprint.pformat(dixt1)"
      ],
      "metadata": {
        "colab": {
          "base_uri": "https://localhost:8080/",
          "height": 36
        },
        "id": "bcRMPrJQRDte",
        "outputId": "7b692f68-acf9-499a-9f99-3a32e75e0a4b"
      },
      "execution_count": null,
      "outputs": [
        {
          "output_type": "execute_result",
          "data": {
            "text/plain": [
              "\"{'G1': (1, 2, 3), 'G2': (4, 5, 6), 'G3': 1, 'G4': 'Noone'}\""
            ],
            "application/vnd.google.colaboratory.intrinsic+json": {
              "type": "string"
            }
          },
          "metadata": {},
          "execution_count": 51
        }
      ]
    },
    {
      "cell_type": "code",
      "source": [
        "dict([(1, \"Hello\"), (2, \"World\")])"
      ],
      "metadata": {
        "colab": {
          "base_uri": "https://localhost:8080/"
        },
        "id": "Wqk9OCgXRHFP",
        "outputId": "7792cca1-eb86-44aa-bcdc-337a8818c635"
      },
      "execution_count": null,
      "outputs": [
        {
          "output_type": "execute_result",
          "data": {
            "text/plain": [
              "{1: 'Hello', 2: 'World'}"
            ]
          },
          "metadata": {},
          "execution_count": 52
        }
      ]
    },
    {
      "cell_type": "code",
      "source": [],
      "metadata": {
        "id": "eT9GnnlXTRok"
      },
      "execution_count": null,
      "outputs": []
    }
  ]
}