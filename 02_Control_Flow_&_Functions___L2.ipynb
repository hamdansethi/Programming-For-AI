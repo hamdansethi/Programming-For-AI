{
  "nbformat": 4,
  "nbformat_minor": 0,
  "metadata": {
    "colab": {
      "provenance": []
    },
    "kernelspec": {
      "name": "python3",
      "display_name": "Python 3"
    },
    "language_info": {
      "name": "python"
    }
  },
  "cells": [
    {
      "cell_type": "markdown",
      "source": [
        "## Libraries"
      ],
      "metadata": {
        "id": "HKfhAkp1_Una"
      }
    },
    {
      "cell_type": "markdown",
      "source": [
        "* Numpy -> Data PreProcessing\n",
        "* Pandas -> Data PreProcessing, File Handling(CSV)\n",
        "* Matplotlib/Seaborn -> Data Visualization\n",
        "* TendorFlow\n",
        "* PyTorch\n",
        "* Scikit / Slclearn"
      ],
      "metadata": {
        "id": "JjPmSF8u-9_i"
      }
    },
    {
      "cell_type": "markdown",
      "source": [
        "Vectorization (In Next Class)"
      ],
      "metadata": {
        "id": "o8VEKzst_rsz"
      }
    },
    {
      "cell_type": "markdown",
      "source": [
        "## Tasks"
      ],
      "metadata": {
        "id": "YCo_JlJmAThU"
      }
    },
    {
      "cell_type": "markdown",
      "source": [
        "### **Take Input User And See If It Is Even Or Odd**"
      ],
      "metadata": {
        "id": "s-78PF67EYiX"
      }
    },
    {
      "cell_type": "code",
      "execution_count": 19,
      "metadata": {
        "id": "S7CD7clDiWqH",
        "colab": {
          "base_uri": "https://localhost:8080/"
        },
        "outputId": "2e63b679-3e73-4f51-bcb6-c8833fb7fef9"
      },
      "outputs": [
        {
          "output_type": "stream",
          "name": "stdout",
          "text": [
            "Enter a number: 10\n",
            "Even\n"
          ]
        }
      ],
      "source": [
        "x = int(input(\"Enter a number: \"))\n",
        "\n",
        "if (x%2 == 0):\n",
        "  print(\"Even\")\n",
        "else:\n",
        "  print(\"Odd\")"
      ]
    },
    {
      "cell_type": "markdown",
      "source": [
        "### **Check if Input is Even or Odd in While Loop**"
      ],
      "metadata": {
        "id": "25ki4tPoEhvG"
      }
    },
    {
      "cell_type": "code",
      "source": [
        "while True:\n",
        "  x = int(input(\"Enter a number: (Enter 0 to exit)\"))\n",
        "  if (x == 0):\n",
        "    print(\"Loop Ended\")\n",
        "    break\n",
        "  if (x%2 == 0):\n",
        "    print(\"Even\")\n",
        "  else:\n",
        "    print(\"Odd\")"
      ],
      "metadata": {
        "colab": {
          "base_uri": "https://localhost:8080/"
        },
        "id": "BIb3LG0RBDY1",
        "outputId": "08875c9d-8e4b-4926-bd7c-d73b99ef713a"
      },
      "execution_count": 5,
      "outputs": [
        {
          "output_type": "stream",
          "name": "stdout",
          "text": [
            "Enter a number: (Enter 0 to exit)10\n",
            "Even\n",
            "Enter a number: (Enter 0 to exit)8\n",
            "Even\n",
            "Enter a number: (Enter 0 to exit)7\n",
            "Odd\n",
            "Enter a number: (Enter 0 to exit)6\n",
            "Even\n",
            "Enter a number: (Enter 0 to exit)5\n",
            "Odd\n",
            "Enter a number: (Enter 0 to exit)0\n",
            "Loop Ended\n"
          ]
        }
      ]
    },
    {
      "cell_type": "markdown",
      "source": [
        "### **Accepting Input From User.  entered Results in giving out the Total Sum**"
      ],
      "metadata": {
        "id": "cE6h6i8HEKGX"
      }
    },
    {
      "cell_type": "code",
      "source": [
        "sum = 0\n",
        "while True:\n",
        "  x = int(input(\"Enter a number(Enter 0 to exit): \"))\n",
        "  if (x == 0):\n",
        "    break\n",
        "  else:\n",
        "    sum += x\n",
        "    print(f\"Value : {x}\")\n",
        "    print(f\"Sum : {sum}\")\n",
        "print(f\"Total Sum Is : {sum}\")"
      ],
      "metadata": {
        "colab": {
          "base_uri": "https://localhost:8080/"
        },
        "id": "hW451iZZBdzE",
        "outputId": "1bd4e2a5-8826-4b8b-dafc-7b066379d733"
      },
      "execution_count": 15,
      "outputs": [
        {
          "output_type": "stream",
          "name": "stdout",
          "text": [
            "Enter a number(Enter 0 to exit): 20\n",
            "Value : 20\n",
            "Sum : 20\n",
            "Enter a number(Enter 0 to exit): 30\n",
            "Value : 30\n",
            "Sum : 50\n",
            "Enter a number(Enter 0 to exit): 40\n",
            "Value : 40\n",
            "Sum : 90\n",
            "Enter a number(Enter 0 to exit): 0\n",
            "Total Sum Is : 90\n"
          ]
        }
      ]
    },
    {
      "cell_type": "markdown",
      "source": [
        "### **Calculate Sum of All The Values from 0 nto 10 by While loop**"
      ],
      "metadata": {
        "id": "1Tg52V2ADjr4"
      }
    },
    {
      "cell_type": "code",
      "source": [
        "x = 10\n",
        "sum = 0\n",
        "\n",
        "while x!=0:\n",
        "  sum += x\n",
        "  x -= 1\n",
        "print(sum)"
      ],
      "metadata": {
        "colab": {
          "base_uri": "https://localhost:8080/"
        },
        "id": "70Le8HAqCqcN",
        "outputId": "c047ff7b-4687-4463-e8c2-d5792a48bb2d"
      },
      "execution_count": 18,
      "outputs": [
        {
          "output_type": "stream",
          "name": "stdout",
          "text": [
            "55\n"
          ]
        }
      ]
    },
    {
      "cell_type": "markdown",
      "source": [
        "### **Total Classes Scheduled By Instructor, Total Number OF Classed Student Attended, Calculate Percentage**"
      ],
      "metadata": {
        "id": "RMXnpuFaFU4w"
      }
    },
    {
      "cell_type": "code",
      "source": [
        "def isEgligibe(x, y):\n",
        "  percentage = (x/y)*100\n",
        "  if percentage >= 85:\n",
        "    return True\n",
        "  else:\n",
        "    return False"
      ],
      "metadata": {
        "id": "JjGYHJGWFn_A"
      },
      "execution_count": 23,
      "outputs": []
    },
    {
      "cell_type": "code",
      "source": [
        "totalClasses = int(input(\"Enter total classes of the course: \"))\n",
        "attendedClasses = int(input(\"Enter total classes of the course attended by Student: \"))"
      ],
      "metadata": {
        "colab": {
          "base_uri": "https://localhost:8080/"
        },
        "id": "zkFUDqMaFhMw",
        "outputId": "e41c69a2-6078-4775-da25-4e7e5fb3991f"
      },
      "execution_count": 21,
      "outputs": [
        {
          "name": "stdout",
          "output_type": "stream",
          "text": [
            "Enter total classes of the course: 50\n",
            "Enter total classes of the course attended by Student: 40\n"
          ]
        }
      ]
    },
    {
      "cell_type": "code",
      "source": [
        "Zeeshan = isEgligibe(attendedClasses, totalClasses)\n",
        "if Zeeshan:\n",
        "  print(\"Student Is Eligible\")\n",
        "else:\n",
        "  print(\"Student Is Not Eligible\")"
      ],
      "metadata": {
        "colab": {
          "base_uri": "https://localhost:8080/"
        },
        "id": "gLXagVdZGDBP",
        "outputId": "0040f59e-63b6-42e7-ebb6-036fad457f5c"
      },
      "execution_count": 25,
      "outputs": [
        {
          "output_type": "stream",
          "name": "stdout",
          "text": [
            "Student Is Not Eligible\n"
          ]
        }
      ]
    },
    {
      "cell_type": "markdown",
      "source": [
        "# **List**"
      ],
      "metadata": {
        "id": "AnLeJ0ZDG_rl"
      }
    },
    {
      "cell_type": "code",
      "source": [
        "list1 = [3, 4, 5, \"One\", \"Two\", 6, 7, 8, 9]\n",
        "list1"
      ],
      "metadata": {
        "colab": {
          "base_uri": "https://localhost:8080/"
        },
        "id": "9RUJrUkcGPT0",
        "outputId": "56954a9a-6aeb-4864-8df1-e451c6932de4"
      },
      "execution_count": 35,
      "outputs": [
        {
          "output_type": "execute_result",
          "data": {
            "text/plain": [
              "[3, 4, 5, 'One', 'Two', 6, 7, 8, 9]"
            ]
          },
          "metadata": {},
          "execution_count": 35
        }
      ]
    },
    {
      "cell_type": "code",
      "source": [
        "list1.remove(4)\n",
        "list1.remove(6)\n",
        "list1"
      ],
      "metadata": {
        "colab": {
          "base_uri": "https://localhost:8080/"
        },
        "id": "CgW3CWHULLyk",
        "outputId": "747df6f6-9cab-40ae-e8b6-81475b48ac0a"
      },
      "execution_count": 29,
      "outputs": [
        {
          "output_type": "execute_result",
          "data": {
            "text/plain": [
              "[3, 5, 'One', 'Two', 7, 8]"
            ]
          },
          "metadata": {},
          "execution_count": 29
        }
      ]
    },
    {
      "cell_type": "code",
      "source": [
        "len(list1)"
      ],
      "metadata": {
        "colab": {
          "base_uri": "https://localhost:8080/"
        },
        "id": "YoEHa8WzMXT4",
        "outputId": "45bfeaae-772f-4add-e4c5-79c9ee8fd82a"
      },
      "execution_count": 36,
      "outputs": [
        {
          "output_type": "execute_result",
          "data": {
            "text/plain": [
              "9"
            ]
          },
          "metadata": {},
          "execution_count": 36
        }
      ]
    },
    {
      "cell_type": "code",
      "source": [
        "list1.pop(6)\n",
        "list1.pop(4)\n",
        "list1.pop()\n",
        "list1"
      ],
      "metadata": {
        "colab": {
          "base_uri": "https://localhost:8080/"
        },
        "id": "1L9Ccba7Lcni",
        "outputId": "0786db7a-ae99-4246-c65f-2d73cca43486"
      },
      "execution_count": 37,
      "outputs": [
        {
          "output_type": "execute_result",
          "data": {
            "text/plain": [
              "[3, 4, 5, 'One', 6, 8]"
            ]
          },
          "metadata": {},
          "execution_count": 37
        }
      ]
    },
    {
      "cell_type": "code",
      "source": [
        "list1.remove(20)\n",
        "list1"
      ],
      "metadata": {
        "colab": {
          "base_uri": "https://localhost:8080/",
          "height": 165
        },
        "id": "VVtW-XMCL_si",
        "outputId": "14a449cd-9138-4921-a893-a7af678a6294"
      },
      "execution_count": 38,
      "outputs": [
        {
          "output_type": "error",
          "ename": "ValueError",
          "evalue": "list.remove(x): x not in list",
          "traceback": [
            "\u001b[0;31m---------------------------------------------------------------------------\u001b[0m",
            "\u001b[0;31mValueError\u001b[0m                                Traceback (most recent call last)",
            "\u001b[0;32m<ipython-input-38-c2490de7da82>\u001b[0m in \u001b[0;36m<cell line: 1>\u001b[0;34m()\u001b[0m\n\u001b[0;32m----> 1\u001b[0;31m \u001b[0mlist1\u001b[0m\u001b[0;34m.\u001b[0m\u001b[0mremove\u001b[0m\u001b[0;34m(\u001b[0m\u001b[0;36m20\u001b[0m\u001b[0;34m)\u001b[0m\u001b[0;34m\u001b[0m\u001b[0;34m\u001b[0m\u001b[0m\n\u001b[0m\u001b[1;32m      2\u001b[0m \u001b[0mlist1\u001b[0m\u001b[0;34m\u001b[0m\u001b[0;34m\u001b[0m\u001b[0m\n",
            "\u001b[0;31mValueError\u001b[0m: list.remove(x): x not in list"
          ]
        }
      ]
    },
    {
      "cell_type": "markdown",
      "source": [
        "## **Slicing Of A List**"
      ],
      "metadata": {
        "id": "ywKiTkaHMx-I"
      }
    },
    {
      "cell_type": "code",
      "source": [
        "import re"
      ],
      "metadata": {
        "id": "GKDiZDqZMj0v"
      },
      "execution_count": 40,
      "outputs": []
    },
    {
      "cell_type": "code",
      "source": [
        "string = \"Geeks For Geeks\""
      ],
      "metadata": {
        "id": "vsXOrimvNAfI"
      },
      "execution_count": 50,
      "outputs": []
    },
    {
      "cell_type": "code",
      "source": [
        "listGFGLoop = []\n",
        "for ch in string:\n",
        "  listGFGLoop.append(ch)"
      ],
      "metadata": {
        "id": "ZtGSqA6jNhsQ"
      },
      "execution_count": 42,
      "outputs": []
    },
    {
      "cell_type": "code",
      "source": [
        "listGFGLoop"
      ],
      "metadata": {
        "colab": {
          "base_uri": "https://localhost:8080/"
        },
        "id": "UjER_F9nNzZZ",
        "outputId": "0688467a-c5e0-4c93-91e0-2139d9a82770"
      },
      "execution_count": 43,
      "outputs": [
        {
          "output_type": "execute_result",
          "data": {
            "text/plain": [
              "['G', 'e', 'e', 'k', 's', ' ', 'F', 'o', 'r', ' ', 'G', 'e', 'e', 'k', 's']"
            ]
          },
          "metadata": {},
          "execution_count": 43
        }
      ]
    },
    {
      "cell_type": "code",
      "source": [
        "listGFG = ['G','e','e','k','s',' ','F','o','r',' ','G','e','e','k','s']"
      ],
      "metadata": {
        "id": "BSNt26v1NOHR"
      },
      "execution_count": 44,
      "outputs": []
    },
    {
      "cell_type": "code",
      "source": [
        "print(listGFG[:2])\n",
        "print(listGFG[2:])\n",
        "print(listGFG[:])"
      ],
      "metadata": {
        "colab": {
          "base_uri": "https://localhost:8080/"
        },
        "id": "3PmoB3wqN5BQ",
        "outputId": "004a2749-83a9-44c1-86c4-1a2dba2f9e1c"
      },
      "execution_count": 47,
      "outputs": [
        {
          "output_type": "stream",
          "name": "stdout",
          "text": [
            "['G', 'e']\n",
            "['e', 'k', 's', ' ', 'F', 'o', 'r', ' ', 'G', 'e', 'e', 'k', 's']\n",
            "['G', 'e', 'e', 'k', 's', ' ', 'F', 'o', 'r', ' ', 'G', 'e', 'e', 'k', 's']\n"
          ]
        }
      ]
    },
    {
      "cell_type": "code",
      "source": [
        "list3 = []\n",
        "for i in range(5):\n",
        "  n = int(input(\"Enter a number: \"))\n",
        "  list3.append(n)\n",
        "list3"
      ],
      "metadata": {
        "colab": {
          "base_uri": "https://localhost:8080/"
        },
        "id": "dvp0o5AvN7ZH",
        "outputId": "4844f99c-0c11-43c6-9717-0c6551ad3e61"
      },
      "execution_count": 48,
      "outputs": [
        {
          "name": "stdout",
          "output_type": "stream",
          "text": [
            "Enter a number: 9\n",
            "Enter a number: 8\n",
            "Enter a number: 7\n",
            "Enter a number: 6\n",
            "Enter a number: 5\n"
          ]
        },
        {
          "output_type": "execute_result",
          "data": {
            "text/plain": [
              "[9, 8, 7, 6, 5]"
            ]
          },
          "metadata": {},
          "execution_count": 48
        }
      ]
    },
    {
      "cell_type": "code",
      "source": [
        "listPrime = []\n",
        "listNotPrime = []\n",
        "\n",
        "for i in range(5):\n",
        "  count = 0\n",
        "  x = int(input(\"Enter a number: \"))\n",
        "  for j in range(2, x):\n",
        "    if(x%j == 0):\n",
        "      count += 1\n",
        "      break\n",
        "  if(count == 0):\n",
        "    listPrime.append(x)\n",
        "  else:\n",
        "    listNotPrime.append(x)\n",
        "\n",
        "print(f\"Prime List: {listPrime}\")\n",
        "print(f\"Not Prime List: {listNotPrime}\")"
      ],
      "metadata": {
        "colab": {
          "base_uri": "https://localhost:8080/"
        },
        "id": "KDFGufKnOtXK",
        "outputId": "8cdc7d50-281e-4aea-e280-b4cd3a7f07c5"
      },
      "execution_count": 66,
      "outputs": [
        {
          "output_type": "stream",
          "name": "stdout",
          "text": [
            "Enter a number: 10\n",
            "Enter a number: 15\n",
            "Enter a number: 10\n",
            "Enter a number: 8\n",
            "Enter a number: 6\n",
            "Prime List: []\n",
            "Not Prime List: [10, 15, 10, 8, 6]\n"
          ]
        }
      ]
    },
    {
      "cell_type": "markdown",
      "source": [
        "## **Text Processing Functions**"
      ],
      "metadata": {
        "id": "Du_h7VquVGMh"
      }
    },
    {
      "cell_type": "code",
      "source": [
        "chRegex = re.compile(r'\\w|\\s')\n",
        "listGFGRegex = chRegex.findall(string)\n",
        "listGFGRegex"
      ],
      "metadata": {
        "colab": {
          "base_uri": "https://localhost:8080/"
        },
        "id": "sXUp6r9aOYyM",
        "outputId": "e96dd45f-888b-4353-ecaa-23912afbfaf7"
      },
      "execution_count": 67,
      "outputs": [
        {
          "output_type": "execute_result",
          "data": {
            "text/plain": [
              "['G', 'e', 'e', 'k', 's', ' ', 'F', 'o', 'r', ' ', 'G', 'e', 'e', 'k', 's']"
            ]
          },
          "metadata": {},
          "execution_count": 67
        }
      ]
    },
    {
      "cell_type": "code",
      "source": [
        "string1 = \"geeks for geeks\""
      ],
      "metadata": {
        "id": "FlJrZRLtRkGk"
      },
      "execution_count": 70,
      "outputs": []
    },
    {
      "cell_type": "code",
      "source": [
        "string1.capitalize()"
      ],
      "metadata": {
        "colab": {
          "base_uri": "https://localhost:8080/",
          "height": 36
        },
        "id": "DSDmtDdIVYwK",
        "outputId": "bbc5b1e1-eaa3-4d48-c8c6-4589880cf105"
      },
      "execution_count": 69,
      "outputs": [
        {
          "output_type": "execute_result",
          "data": {
            "text/plain": [
              "'Geeks for geeks'"
            ],
            "application/vnd.google.colaboratory.intrinsic+json": {
              "type": "string"
            }
          },
          "metadata": {},
          "execution_count": 69
        }
      ]
    },
    {
      "cell_type": "code",
      "source": [
        "string2 = \"geeks for geeks\"\n",
        "string2.upper()"
      ],
      "metadata": {
        "colab": {
          "base_uri": "https://localhost:8080/",
          "height": 36
        },
        "id": "5NtRvouuVbHn",
        "outputId": "3465a027-e400-4155-a386-cc6e614607d9"
      },
      "execution_count": 71,
      "outputs": [
        {
          "output_type": "execute_result",
          "data": {
            "text/plain": [
              "'GEEKS FOR GEEKS'"
            ],
            "application/vnd.google.colaboratory.intrinsic+json": {
              "type": "string"
            }
          },
          "metadata": {},
          "execution_count": 71
        }
      ]
    },
    {
      "cell_type": "code",
      "source": [
        "string2.lower()"
      ],
      "metadata": {
        "colab": {
          "base_uri": "https://localhost:8080/",
          "height": 36
        },
        "id": "X0PVjShUVmpH",
        "outputId": "fe370920-58c6-4261-cfe9-fa4a623696e4"
      },
      "execution_count": 72,
      "outputs": [
        {
          "output_type": "execute_result",
          "data": {
            "text/plain": [
              "'geeks for geeks'"
            ],
            "application/vnd.google.colaboratory.intrinsic+json": {
              "type": "string"
            }
          },
          "metadata": {},
          "execution_count": 72
        }
      ]
    },
    {
      "cell_type": "code",
      "source": [
        "string2.rjust(25)"
      ],
      "metadata": {
        "colab": {
          "base_uri": "https://localhost:8080/",
          "height": 36
        },
        "id": "5IUVxQa4VplX",
        "outputId": "d9984407-1099-430f-f33b-b22a4fe00cc4"
      },
      "execution_count": 77,
      "outputs": [
        {
          "output_type": "execute_result",
          "data": {
            "text/plain": [
              "'          geeks for geeks'"
            ],
            "application/vnd.google.colaboratory.intrinsic+json": {
              "type": "string"
            }
          },
          "metadata": {},
          "execution_count": 77
        }
      ]
    },
    {
      "cell_type": "code",
      "source": [
        "string2.center(30)"
      ],
      "metadata": {
        "colab": {
          "base_uri": "https://localhost:8080/",
          "height": 36
        },
        "id": "jB8PFN4eV1Wu",
        "outputId": "811c17bc-f0ed-4521-e42a-8d7faab74d67"
      },
      "execution_count": 79,
      "outputs": [
        {
          "output_type": "execute_result",
          "data": {
            "text/plain": [
              "'       geeks for geeks        '"
            ],
            "application/vnd.google.colaboratory.intrinsic+json": {
              "type": "string"
            }
          },
          "metadata": {},
          "execution_count": 79
        }
      ]
    },
    {
      "cell_type": "code",
      "source": [
        "string2.replace(\"geeks\", \"Haji\")"
      ],
      "metadata": {
        "colab": {
          "base_uri": "https://localhost:8080/",
          "height": 36
        },
        "id": "MPX0Dz2xWybg",
        "outputId": "a76d334b-8824-4769-953e-534f4452d840"
      },
      "execution_count": 80,
      "outputs": [
        {
          "output_type": "execute_result",
          "data": {
            "text/plain": [
              "'Haji for Haji'"
            ],
            "application/vnd.google.colaboratory.intrinsic+json": {
              "type": "string"
            }
          },
          "metadata": {},
          "execution_count": 80
        }
      ]
    },
    {
      "cell_type": "code",
      "source": [
        "print(\" Geeks For Geeks   \".strip())"
      ],
      "metadata": {
        "colab": {
          "base_uri": "https://localhost:8080/"
        },
        "id": "okDPI_lrXH5u",
        "outputId": "221a8864-516e-4079-c07f-8dc60eb51c84"
      },
      "execution_count": 82,
      "outputs": [
        {
          "output_type": "stream",
          "name": "stdout",
          "text": [
            "Geeks For Geeks\n"
          ]
        }
      ]
    }
  ]
}