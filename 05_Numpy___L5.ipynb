{
  "nbformat": 4,
  "nbformat_minor": 0,
  "metadata": {
    "colab": {
      "provenance": []
    },
    "kernelspec": {
      "name": "python3",
      "display_name": "Python 3"
    },
    "language_info": {
      "name": "python"
    }
  },
  "cells": [
    {
      "cell_type": "markdown",
      "source": [
        "### **Supervised Learning | Unsupervised Learning | Reinforcement Learning**\n",
        "1. SL -> algorithm is trained on a labelled dataset i.e regression, classification\n",
        "2. UL -> algorithm is given input data without explicit instructions on what to do with it i.e clustering\n",
        "3. RL -> an agent learns to make decisions by the interacting with its environment"
      ],
      "metadata": {
        "id": "gP95juj14-r9"
      }
    },
    {
      "cell_type": "markdown",
      "source": [
        "# **Class**"
      ],
      "metadata": {
        "id": "dwZ5p2TF-sqk"
      }
    },
    {
      "cell_type": "code",
      "source": [
        "class Person:\n",
        "  def __init__(self, name, age):\n",
        "    self.name = name\n",
        "    self.age = age\n",
        "\n",
        "p1 = Person(\"John\", 45)\n",
        "print(p1.name)\n",
        "print(p1.age)"
      ],
      "metadata": {
        "colab": {
          "base_uri": "https://localhost:8080/"
        },
        "id": "Iojam5-p-wUr",
        "outputId": "c659064d-f786-4807-9704-ab191c1b55c1"
      },
      "execution_count": 12,
      "outputs": [
        {
          "output_type": "stream",
          "name": "stdout",
          "text": [
            "John\n",
            "45\n"
          ]
        }
      ]
    },
    {
      "cell_type": "code",
      "source": [
        "class Person:\n",
        "  def __init__(self, name, age):\n",
        "    self.name = name\n",
        "    self.age = age\n",
        "\n",
        "  def printname(self):\n",
        "    print(self.name)\n",
        "\n",
        "pname = input(\"Enter name: \")\n",
        "page = int(input(\"Enter age: \"))\n",
        "\n",
        "p1 = Person(pname, page)\n",
        "\n",
        "p1.printname()\n",
        "\n",
        "print(p1.name)\n",
        "print(p1.age)"
      ],
      "metadata": {
        "colab": {
          "base_uri": "https://localhost:8080/"
        },
        "id": "lfp6qvOjA7iy",
        "outputId": "cb79ee2e-2ac6-41a0-e271-bf97efa16a14"
      },
      "execution_count": 20,
      "outputs": [
        {
          "output_type": "stream",
          "name": "stdout",
          "text": [
            "Enter name: Hamdan\n",
            "Enter age: 20\n",
            "Hamdan\n",
            "Hamdan\n",
            "20\n"
          ]
        }
      ]
    },
    {
      "cell_type": "code",
      "source": [
        "class Manager(Person):\n",
        "  def __init__(self, name, age, salary, project):\n",
        "    self.salary = salary\n",
        "    self.project = project\n",
        "    super().__init__(name, age)\n",
        "\n",
        "  def work(self):\n",
        "    print(f\"{self.name} is working on {self.project}\")\n",
        "\n",
        "  def show_salary(self):\n",
        "    print(f\"{self.name} salary is {self.salary}\")\n",
        "\n",
        "  def show_info(self):\n",
        "    print(f\"Name: {self.name}, Age: {self.age}, Salary: {self.salary}, Project: {self.project}\")\n",
        "\n",
        "m1 = Manager(\"John\", 45, 10000, \"Python\")\n",
        "m1.work()\n",
        "m1.show_salary()\n",
        "m1.show_info()"
      ],
      "metadata": {
        "colab": {
          "base_uri": "https://localhost:8080/"
        },
        "id": "IIEOoPrG_dWa",
        "outputId": "d489856b-a1f0-40f3-f579-6a1397d89470"
      },
      "execution_count": 16,
      "outputs": [
        {
          "output_type": "stream",
          "name": "stdout",
          "text": [
            "John is working on Python\n",
            "John salary is 10000\n",
            "Name: John, Age: 45, Salary: 10000, Project: Python\n"
          ]
        }
      ]
    },
    {
      "cell_type": "markdown",
      "source": [
        "# **NumPy | Arrays and Vectorized Computation**"
      ],
      "metadata": {
        "id": "3UgzWheT9DWe"
      }
    },
    {
      "cell_type": "markdown",
      "source": [
        "DL/ML/ANN -> Mathematical Formulae -> in NumPy\n",
        "Data Cleaning\n",
        "\n",
        "Data PreProcessing\n"
      ],
      "metadata": {
        "id": "zq0LLjy_D1nI"
      }
    },
    {
      "cell_type": "code",
      "source": [
        "import numpy as np"
      ],
      "metadata": {
        "id": "bo462FGt9a02"
      },
      "execution_count": 1,
      "outputs": []
    },
    {
      "cell_type": "code",
      "source": [
        "import pprint"
      ],
      "metadata": {
        "id": "LILj1BctF08t"
      },
      "execution_count": 38,
      "outputs": []
    },
    {
      "cell_type": "code",
      "source": [
        "data = np.array([[1, 2, 3], [4, 5, 6]])\n",
        "data"
      ],
      "metadata": {
        "colab": {
          "base_uri": "https://localhost:8080/"
        },
        "id": "cTJzvprYDroB",
        "outputId": "52f1662b-3ae3-42cf-a386-05ff87ed398c"
      },
      "execution_count": 27,
      "outputs": [
        {
          "output_type": "execute_result",
          "data": {
            "text/plain": [
              "array([[1, 2, 3],\n",
              "       [4, 5, 6]])"
            ]
          },
          "metadata": {},
          "execution_count": 27
        }
      ]
    },
    {
      "cell_type": "code",
      "source": [
        "new_row1 = np.concatenate([data[0], [10]])\n",
        "new_row2 = np.concatenate([data[1], [20]])\n",
        "new_data = np.vstack([new_row1, new_row2])\n",
        "new_data"
      ],
      "metadata": {
        "colab": {
          "base_uri": "https://localhost:8080/"
        },
        "id": "_nP1pccAH5pj",
        "outputId": "5066da41-d131-4046-eb4c-00be3c170ce7"
      },
      "execution_count": 46,
      "outputs": [
        {
          "output_type": "execute_result",
          "data": {
            "text/plain": [
              "array([[ 1,  2,  3, 10],\n",
              "       [ 4,  5,  6, 20]])"
            ]
          },
          "metadata": {},
          "execution_count": 46
        }
      ]
    },
    {
      "cell_type": "code",
      "source": [
        "arr3d = np.array([\n",
        "                  [[1,2], [3,4]],\n",
        "                  [[5,6], [7,8]],\n",
        "                  [[9,10], [11,12]]\n",
        "                  ])\n",
        "print(arr3d)\n",
        "print(f\"Shape : {arr3d.shape}\")\n"
      ],
      "metadata": {
        "colab": {
          "base_uri": "https://localhost:8080/"
        },
        "id": "DMS2ET5rJNgS",
        "outputId": "25a76106-76b6-4dc7-f44f-355d00ba3537"
      },
      "execution_count": 50,
      "outputs": [
        {
          "output_type": "stream",
          "name": "stdout",
          "text": [
            "[[[ 1  2]\n",
            "  [ 3  4]]\n",
            "\n",
            " [[ 5  6]\n",
            "  [ 7  8]]\n",
            "\n",
            " [[ 9 10]\n",
            "  [11 12]]]\n",
            "Shape : (3, 2, 2)\n"
          ]
        }
      ]
    },
    {
      "cell_type": "code",
      "source": [
        "arr3db =[[[13, 14], [15, 16]]]\n",
        "arr3d = np.append(arr3d, arr3db, axis=0)\n",
        "arr3d"
      ],
      "metadata": {
        "colab": {
          "base_uri": "https://localhost:8080/"
        },
        "id": "KN_VT-4MSRwl",
        "outputId": "db3ef6fb-2895-443a-e7da-193d266c2fa9"
      },
      "execution_count": 60,
      "outputs": [
        {
          "output_type": "execute_result",
          "data": {
            "text/plain": [
              "array([[[ 1,  2],\n",
              "        [ 3,  4]],\n",
              "\n",
              "       [[ 5,  6],\n",
              "        [ 7,  8]],\n",
              "\n",
              "       [[ 9, 10],\n",
              "        [11, 12]],\n",
              "\n",
              "       [[13, 14],\n",
              "        [15, 16]],\n",
              "\n",
              "       [[13, 14],\n",
              "        [15, 16]],\n",
              "\n",
              "       [[13, 14],\n",
              "        [15, 16]]])"
            ]
          },
          "metadata": {},
          "execution_count": 60
        }
      ]
    },
    {
      "cell_type": "code",
      "source": [
        "arr3d = np.delete(arr3d, slice(3, 6), axis=0)"
      ],
      "metadata": {
        "id": "Xc25v2T7SfpJ"
      },
      "execution_count": 61,
      "outputs": []
    },
    {
      "cell_type": "code",
      "source": [
        "arr3d"
      ],
      "metadata": {
        "colab": {
          "base_uri": "https://localhost:8080/"
        },
        "id": "vyrrd4ymTI_A",
        "outputId": "dbd7fe65-e8dd-431c-f5df-9a4341a2d2c0"
      },
      "execution_count": 62,
      "outputs": [
        {
          "output_type": "execute_result",
          "data": {
            "text/plain": [
              "array([[[ 1,  2],\n",
              "        [ 3,  4]],\n",
              "\n",
              "       [[ 5,  6],\n",
              "        [ 7,  8]],\n",
              "\n",
              "       [[ 9, 10],\n",
              "        [11, 12]]])"
            ]
          },
          "metadata": {},
          "execution_count": 62
        }
      ]
    },
    {
      "cell_type": "code",
      "source": [
        "arr3d.shape"
      ],
      "metadata": {
        "colab": {
          "base_uri": "https://localhost:8080/"
        },
        "id": "t2jUdxFHTD_x",
        "outputId": "d8732265-805a-4b19-938a-3449a7e276dd"
      },
      "execution_count": 63,
      "outputs": [
        {
          "output_type": "execute_result",
          "data": {
            "text/plain": [
              "(3, 2, 2)"
            ]
          },
          "metadata": {},
          "execution_count": 63
        }
      ]
    },
    {
      "cell_type": "code",
      "source": [
        "arr3d.ndim"
      ],
      "metadata": {
        "colab": {
          "base_uri": "https://localhost:8080/"
        },
        "id": "UjV6j6hAbj04",
        "outputId": "a97ae3b3-263b-48c6-a79f-445c977bbe27"
      },
      "execution_count": 132,
      "outputs": [
        {
          "output_type": "execute_result",
          "data": {
            "text/plain": [
              "3"
            ]
          },
          "metadata": {},
          "execution_count": 132
        }
      ]
    },
    {
      "cell_type": "code",
      "execution_count": 6,
      "metadata": {
        "colab": {
          "base_uri": "https://localhost:8080/"
        },
        "id": "YcX22d8Y4iwB",
        "outputId": "851fddcc-941c-40de-b1e5-ae4aa6fe75c2"
      },
      "outputs": [
        {
          "output_type": "execute_result",
          "data": {
            "text/plain": [
              "array([ 0,  1,  2,  3,  4,  5,  6,  7,  8,  9, 10, 11, 12, 13, 14, 15, 16,\n",
              "       17, 18, 19, 20, 21, 22, 23, 24, 25, 26, 27, 28, 29, 30, 31, 32, 33,\n",
              "       34, 35, 36, 37, 38, 39, 40, 41, 42, 43, 44, 45, 46, 47, 48, 49, 50,\n",
              "       51, 52, 53, 54, 55, 56, 57, 58, 59, 60, 61, 62, 63, 64, 65, 66, 67,\n",
              "       68, 69, 70, 71, 72, 73, 74, 75, 76, 77, 78, 79, 80, 81, 82, 83, 84,\n",
              "       85, 86, 87, 88, 89, 90, 91, 92, 93, 94, 95, 96, 97, 98, 99])"
            ]
          },
          "metadata": {},
          "execution_count": 6
        }
      ],
      "source": [
        "arr1 = np.arange(100)\n",
        "arr1"
      ]
    },
    {
      "cell_type": "code",
      "source": [
        "np.arange(10,50,5) # step size (3rd arg)"
      ],
      "metadata": {
        "colab": {
          "base_uri": "https://localhost:8080/"
        },
        "id": "kAK2YRadWXNY",
        "outputId": "1865c3c3-3f97-4b07-eb60-e9e9e7e30995"
      },
      "execution_count": 94,
      "outputs": [
        {
          "output_type": "execute_result",
          "data": {
            "text/plain": [
              "array([10, 15, 20, 25, 30, 35, 40, 45])"
            ]
          },
          "metadata": {},
          "execution_count": 94
        }
      ]
    },
    {
      "cell_type": "code",
      "source": [
        "np.linspace(10, 50, 5) #no. of elements (3rd arg) (x, y, num = z)"
      ],
      "metadata": {
        "colab": {
          "base_uri": "https://localhost:8080/"
        },
        "id": "HmrgSLhxWwnU",
        "outputId": "61dd36ff-bf81-4247-d5f6-7b4e0c971928"
      },
      "execution_count": 96,
      "outputs": [
        {
          "output_type": "execute_result",
          "data": {
            "text/plain": [
              "array([10., 20., 30., 40., 50.])"
            ]
          },
          "metadata": {},
          "execution_count": 96
        }
      ]
    },
    {
      "cell_type": "code",
      "source": [
        "arr2 = list(range(100))\n",
        "pprint.pformat(arr2)"
      ],
      "metadata": {
        "colab": {
          "base_uri": "https://localhost:8080/",
          "height": 87
        },
        "id": "DEsTofug9mo9",
        "outputId": "30c524ca-f9b8-422e-a5a9-39e049eeba0b"
      },
      "execution_count": 40,
      "outputs": [
        {
          "output_type": "execute_result",
          "data": {
            "text/plain": [
              "'[0,\\n 1,\\n 2,\\n 3,\\n 4,\\n 5,\\n 6,\\n 7,\\n 8,\\n 9,\\n 10,\\n 11,\\n 12,\\n 13,\\n 14,\\n 15,\\n 16,\\n 17,\\n 18,\\n 19,\\n 20,\\n 21,\\n 22,\\n 23,\\n 24,\\n 25,\\n 26,\\n 27,\\n 28,\\n 29,\\n 30,\\n 31,\\n 32,\\n 33,\\n 34,\\n 35,\\n 36,\\n 37,\\n 38,\\n 39,\\n 40,\\n 41,\\n 42,\\n 43,\\n 44,\\n 45,\\n 46,\\n 47,\\n 48,\\n 49,\\n 50,\\n 51,\\n 52,\\n 53,\\n 54,\\n 55,\\n 56,\\n 57,\\n 58,\\n 59,\\n 60,\\n 61,\\n 62,\\n 63,\\n 64,\\n 65,\\n 66,\\n 67,\\n 68,\\n 69,\\n 70,\\n 71,\\n 72,\\n 73,\\n 74,\\n 75,\\n 76,\\n 77,\\n 78,\\n 79,\\n 80,\\n 81,\\n 82,\\n 83,\\n 84,\\n 85,\\n 86,\\n 87,\\n 88,\\n 89,\\n 90,\\n 91,\\n 92,\\n 93,\\n 94,\\n 95,\\n 96,\\n 97,\\n 98,\\n 99]'"
            ],
            "application/vnd.google.colaboratory.intrinsic+json": {
              "type": "string"
            }
          },
          "metadata": {},
          "execution_count": 40
        }
      ]
    },
    {
      "cell_type": "code",
      "source": [
        "%timeit arr3 = arr1 * 2\n",
        "%timeit arr4 = [x * 2 for x in arr2]"
      ],
      "metadata": {
        "colab": {
          "base_uri": "https://localhost:8080/"
        },
        "id": "7GHCGX0l-Xax",
        "outputId": "df9d7a23-cc58-4062-fc6a-5e8e53a06c7d"
      },
      "execution_count": 9,
      "outputs": [
        {
          "output_type": "stream",
          "name": "stdout",
          "text": [
            "1.36 µs ± 309 ns per loop (mean ± std. dev. of 7 runs, 1000000 loops each)\n",
            "5.43 µs ± 304 ns per loop (mean ± std. dev. of 7 runs, 100000 loops each)\n"
          ]
        }
      ]
    },
    {
      "cell_type": "code",
      "source": [
        "data.shape"
      ],
      "metadata": {
        "colab": {
          "base_uri": "https://localhost:8080/"
        },
        "id": "lj3yqg4BEW5_",
        "outputId": "43d35697-2c17-48b7-de09-65950a8c379a"
      },
      "execution_count": 30,
      "outputs": [
        {
          "output_type": "execute_result",
          "data": {
            "text/plain": [
              "(2, 3)"
            ]
          },
          "metadata": {},
          "execution_count": 30
        }
      ]
    },
    {
      "cell_type": "code",
      "source": [
        "data.dtype"
      ],
      "metadata": {
        "colab": {
          "base_uri": "https://localhost:8080/"
        },
        "id": "ak5hSO0fEhtm",
        "outputId": "cd0d18a3-829e-44a2-9772-6b5e26770d9b"
      },
      "execution_count": 32,
      "outputs": [
        {
          "output_type": "execute_result",
          "data": {
            "text/plain": [
              "dtype('int64')"
            ]
          },
          "metadata": {},
          "execution_count": 32
        }
      ]
    },
    {
      "cell_type": "code",
      "source": [
        "np.zeros(10)"
      ],
      "metadata": {
        "colab": {
          "base_uri": "https://localhost:8080/"
        },
        "id": "Yf2Tp51QEmve",
        "outputId": "552e60c4-485a-43fe-c842-426041ca834b"
      },
      "execution_count": 33,
      "outputs": [
        {
          "output_type": "execute_result",
          "data": {
            "text/plain": [
              "array([0., 0., 0., 0., 0., 0., 0., 0., 0., 0.])"
            ]
          },
          "metadata": {},
          "execution_count": 33
        }
      ]
    },
    {
      "cell_type": "code",
      "source": [
        "np.ones(10)"
      ],
      "metadata": {
        "colab": {
          "base_uri": "https://localhost:8080/"
        },
        "id": "MjRBj1sUFmls",
        "outputId": "16293b8d-2186-4801-94d0-2547a0ca0e66"
      },
      "execution_count": 34,
      "outputs": [
        {
          "output_type": "execute_result",
          "data": {
            "text/plain": [
              "array([1., 1., 1., 1., 1., 1., 1., 1., 1., 1.])"
            ]
          },
          "metadata": {},
          "execution_count": 34
        }
      ]
    },
    {
      "cell_type": "code",
      "source": [
        "np.identity(5)"
      ],
      "metadata": {
        "colab": {
          "base_uri": "https://localhost:8080/"
        },
        "id": "soF3TQ4SFpAN",
        "outputId": "c9621a88-bae4-42ed-e1ff-d26450949fce"
      },
      "execution_count": 65,
      "outputs": [
        {
          "output_type": "execute_result",
          "data": {
            "text/plain": [
              "array([[1., 0., 0., 0., 0.],\n",
              "       [0., 1., 0., 0., 0.],\n",
              "       [0., 0., 1., 0., 0.],\n",
              "       [0., 0., 0., 1., 0.],\n",
              "       [0., 0., 0., 0., 1.]])"
            ]
          },
          "metadata": {},
          "execution_count": 65
        }
      ]
    },
    {
      "cell_type": "code",
      "source": [
        "np.eye(3, 4)"
      ],
      "metadata": {
        "colab": {
          "base_uri": "https://localhost:8080/"
        },
        "id": "R3s4aI3YVHTu",
        "outputId": "a3de08cc-708d-4fe0-a5c0-f37e6ee9bb91"
      },
      "execution_count": 83,
      "outputs": [
        {
          "output_type": "execute_result",
          "data": {
            "text/plain": [
              "array([[1., 0., 0., 0.],\n",
              "       [0., 1., 0., 0.],\n",
              "       [0., 0., 1., 0.]])"
            ]
          },
          "metadata": {},
          "execution_count": 83
        }
      ]
    },
    {
      "cell_type": "code",
      "source": [
        "np.full(5, 44)"
      ],
      "metadata": {
        "colab": {
          "base_uri": "https://localhost:8080/"
        },
        "id": "actY9UMzT4GX",
        "outputId": "66c25db1-51ff-4b09-9e7c-1344ae719f92"
      },
      "execution_count": 69,
      "outputs": [
        {
          "output_type": "execute_result",
          "data": {
            "text/plain": [
              "array([44, 44, 44, 44, 44])"
            ]
          },
          "metadata": {},
          "execution_count": 69
        }
      ]
    },
    {
      "cell_type": "code",
      "source": [
        "np.full((2, 3, 5), 44)"
      ],
      "metadata": {
        "colab": {
          "base_uri": "https://localhost:8080/"
        },
        "id": "cjjwzxqZU73V",
        "outputId": "d92c4507-b4bc-4898-9e5d-c1032a723c79"
      },
      "execution_count": 79,
      "outputs": [
        {
          "output_type": "execute_result",
          "data": {
            "text/plain": [
              "array([[[44, 44, 44, 44, 44],\n",
              "        [44, 44, 44, 44, 44],\n",
              "        [44, 44, 44, 44, 44]],\n",
              "\n",
              "       [[44, 44, 44, 44, 44],\n",
              "        [44, 44, 44, 44, 44],\n",
              "        [44, 44, 44, 44, 44]]])"
            ]
          },
          "metadata": {},
          "execution_count": 79
        }
      ]
    },
    {
      "cell_type": "code",
      "source": [
        "np.zeros_like(data)"
      ],
      "metadata": {
        "colab": {
          "base_uri": "https://localhost:8080/"
        },
        "id": "peSyNvU6UC43",
        "outputId": "dca413ab-8b53-449c-dae1-bd9ab9ac29e9"
      },
      "execution_count": 70,
      "outputs": [
        {
          "output_type": "execute_result",
          "data": {
            "text/plain": [
              "array([[0, 0, 0],\n",
              "       [0, 0, 0]])"
            ]
          },
          "metadata": {},
          "execution_count": 70
        }
      ]
    },
    {
      "cell_type": "code",
      "source": [
        "np.random.random(4)"
      ],
      "metadata": {
        "colab": {
          "base_uri": "https://localhost:8080/"
        },
        "id": "bVdfd4HdULrn",
        "outputId": "43541560-9c25-4b24-bb04-786e3c9ddcf9"
      },
      "execution_count": 72,
      "outputs": [
        {
          "output_type": "execute_result",
          "data": {
            "text/plain": [
              "array([0.74558956, 0.99819593, 0.57712446, 0.70787449])"
            ]
          },
          "metadata": {},
          "execution_count": 72
        }
      ]
    },
    {
      "cell_type": "code",
      "source": [
        "np.random.random((1, 3, 2))"
      ],
      "metadata": {
        "colab": {
          "base_uri": "https://localhost:8080/"
        },
        "id": "vq5sQPCiUpbm",
        "outputId": "35c352f0-7e27-46e7-89e8-5d09057a0d3a"
      },
      "execution_count": 76,
      "outputs": [
        {
          "output_type": "execute_result",
          "data": {
            "text/plain": [
              "array([[[0.76295644, 0.79924204],\n",
              "        [0.96989486, 0.69705874],\n",
              "        [0.43511514, 0.84831087]]])"
            ]
          },
          "metadata": {},
          "execution_count": 76
        }
      ]
    },
    {
      "cell_type": "code",
      "source": [
        "rng = np.random.default_rng(seed=42)\n",
        "rndm = rng.integers(low=5, high=10, size=(2, 3))\n",
        "rndm"
      ],
      "metadata": {
        "colab": {
          "base_uri": "https://localhost:8080/"
        },
        "id": "HqFW7m1MUYEv",
        "outputId": "2d4f4653-5f43-49fb-f498-584bd66d8c37"
      },
      "execution_count": 86,
      "outputs": [
        {
          "output_type": "execute_result",
          "data": {
            "text/plain": [
              "array([[5, 8, 8],\n",
              "       [7, 7, 9]])"
            ]
          },
          "metadata": {},
          "execution_count": 86
        }
      ]
    },
    {
      "cell_type": "code",
      "source": [
        "x = [i*5 for i in range(10)]\n",
        "x"
      ],
      "metadata": {
        "colab": {
          "base_uri": "https://localhost:8080/"
        },
        "id": "UGBHZsEeWITn",
        "outputId": "82a9dd92-008a-474c-b6a6-323374b8d0e4"
      },
      "execution_count": 89,
      "outputs": [
        {
          "output_type": "execute_result",
          "data": {
            "text/plain": [
              "[0, 5, 10, 15, 20, 25, 30, 35, 40, 45]"
            ]
          },
          "metadata": {},
          "execution_count": 89
        }
      ]
    },
    {
      "cell_type": "code",
      "source": [
        "arra = np.array([1, 1, 1])\n",
        "arrb = np.array([2, 2, 2])\n",
        "arrc = np.array([3, 3, 3])\n",
        "arrd = np.array([4, 4, 4])\n",
        "\n",
        "arrVer = np.vstack([arra, arrb, arrc, arrd])\n",
        "arrHor = np.hstack([arra, arrb, arrc, arrd])\n",
        "\n",
        "print(f\"Vertical Stacking(vstack):\\n{arrVer} \\nHorizontal Stacking(hstack): \\n{arrHor}\")"
      ],
      "metadata": {
        "colab": {
          "base_uri": "https://localhost:8080/"
        },
        "id": "sYpmpTPQYE2z",
        "outputId": "3827f722-f49e-4fc6-f66f-d8da4195f016"
      },
      "execution_count": 104,
      "outputs": [
        {
          "output_type": "stream",
          "name": "stdout",
          "text": [
            "Vertical Stacking(vstack):\n",
            "[[1 1 1]\n",
            " [2 2 2]\n",
            " [3 3 3]\n",
            " [4 4 4]] \n",
            "Horizontal Stacking(hstack): \n",
            "[1 1 1 2 2 2 3 3 3 4 4 4]\n"
          ]
        }
      ]
    },
    {
      "cell_type": "code",
      "source": [
        "arrVer[1]"
      ],
      "metadata": {
        "colab": {
          "base_uri": "https://localhost:8080/"
        },
        "id": "HrGqTpTWZNKa",
        "outputId": "ac700e34-638f-452c-cce0-f1c037222355"
      },
      "execution_count": 105,
      "outputs": [
        {
          "output_type": "execute_result",
          "data": {
            "text/plain": [
              "array([2, 2, 2])"
            ]
          },
          "metadata": {},
          "execution_count": 105
        }
      ]
    },
    {
      "cell_type": "code",
      "source": [
        "arrVer[2:]"
      ],
      "metadata": {
        "colab": {
          "base_uri": "https://localhost:8080/"
        },
        "id": "El5vSGk9ZRSC",
        "outputId": "8c2509bb-57c3-4394-b2db-9cfb69258a50"
      },
      "execution_count": 111,
      "outputs": [
        {
          "output_type": "execute_result",
          "data": {
            "text/plain": [
              "array([[3, 3, 3],\n",
              "       [4, 4, 4]])"
            ]
          },
          "metadata": {},
          "execution_count": 111
        }
      ]
    },
    {
      "cell_type": "code",
      "source": [
        "arr10 = np.arange(10)\n",
        "arr11 = np.linspace(-5, 15, 10)\n",
        "\n",
        "print(arr10)\n",
        "print(arr11)"
      ],
      "metadata": {
        "colab": {
          "base_uri": "https://localhost:8080/"
        },
        "id": "pkh1S2TJZi1P",
        "outputId": "2f71ca9a-3ba9-4a11-8776-6d87e1cae7c3"
      },
      "execution_count": 122,
      "outputs": [
        {
          "output_type": "stream",
          "name": "stdout",
          "text": [
            "[0 1 2 3 4 5 6 7 8 9]\n",
            "[-5.         -2.77777778 -0.55555556  1.66666667  3.88888889  6.11111111\n",
            "  8.33333333 10.55555556 12.77777778 15.        ]\n"
          ]
        }
      ]
    },
    {
      "cell_type": "code",
      "source": [
        "arr10<arr11"
      ],
      "metadata": {
        "colab": {
          "base_uri": "https://localhost:8080/"
        },
        "id": "25bxDPNhZziE",
        "outputId": "f1cf487a-e47f-493c-e05b-d6a828f0a713"
      },
      "execution_count": 123,
      "outputs": [
        {
          "output_type": "execute_result",
          "data": {
            "text/plain": [
              "array([False, False, False, False, False,  True,  True,  True,  True,\n",
              "        True])"
            ]
          },
          "metadata": {},
          "execution_count": 123
        }
      ]
    },
    {
      "cell_type": "code",
      "source": [
        "arr20 = np.arange(1, 16)\n",
        "arr20 = arr20.reshape(3, 5)\n",
        "arr20"
      ],
      "metadata": {
        "colab": {
          "base_uri": "https://localhost:8080/"
        },
        "id": "_5T7O2MSaPfy",
        "outputId": "84978a16-172d-403f-9e37-ef4c423e9229"
      },
      "execution_count": 129,
      "outputs": [
        {
          "output_type": "execute_result",
          "data": {
            "text/plain": [
              "array([[ 1,  2,  3,  4,  5],\n",
              "       [ 6,  7,  8,  9, 10],\n",
              "       [11, 12, 13, 14, 15]])"
            ]
          },
          "metadata": {},
          "execution_count": 129
        }
      ]
    },
    {
      "cell_type": "code",
      "source": [
        "arr21 = arr20[:2, 1:3]\n",
        "arr21"
      ],
      "metadata": {
        "colab": {
          "base_uri": "https://localhost:8080/"
        },
        "id": "zmXsDZ-LarT3",
        "outputId": "a2fdc726-72ec-44db-88a7-ae657dad7ef1"
      },
      "execution_count": 131,
      "outputs": [
        {
          "output_type": "execute_result",
          "data": {
            "text/plain": [
              "array([[2, 3],\n",
              "       [7, 8]])"
            ]
          },
          "metadata": {},
          "execution_count": 131
        }
      ]
    },
    {
      "cell_type": "markdown",
      "source": [
        "## Homework\n",
        "1. add()\n",
        "2. subtract()\n",
        "3. multiply()\n",
        "4. divide()\n",
        "5. sqrt()\n",
        "6. dot() / @\n",
        "7. min()\n",
        "8. max()\n",
        "9. transpose()"
      ],
      "metadata": {
        "id": "UBfLNhTucxoe"
      }
    },
    {
      "cell_type": "code",
      "source": [
        "arr30 = np.arange(5)\n",
        "arr31 = np.arange(5, 10)\n",
        "\n",
        "print(arr30)\n",
        "print(arr31)\n",
        "\n",
        "%timeit arr30 @ arr31\n",
        "%timeit np.dot(arr30, arr31)"
      ],
      "metadata": {
        "colab": {
          "base_uri": "https://localhost:8080/"
        },
        "id": "8z5wH1jedW77",
        "outputId": "d00f95fb-ece6-4bf2-ff92-22dee39124fa"
      },
      "execution_count": 137,
      "outputs": [
        {
          "output_type": "stream",
          "name": "stdout",
          "text": [
            "[0 1 2 3 4]\n",
            "[5 6 7 8 9]\n",
            "2.17 µs ± 350 ns per loop (mean ± std. dev. of 7 runs, 100000 loops each)\n",
            "1.23 µs ± 184 ns per loop (mean ± std. dev. of 7 runs, 1000000 loops each)\n"
          ]
        }
      ]
    },
    {
      "cell_type": "code",
      "source": [
        "arr32 = np.arange(10)\n",
        "arr32 = arr32.reshape(5, 2)\n",
        "print(f\"Transpose: {arr32.T}\")\n",
        "pprint.pprint(f\"Normal: {arr32}\")"
      ],
      "metadata": {
        "colab": {
          "base_uri": "https://localhost:8080/"
        },
        "id": "6H8dwHRCeKY1",
        "outputId": "dcc4a944-228f-4db7-ffc6-778472534726"
      },
      "execution_count": 144,
      "outputs": [
        {
          "output_type": "stream",
          "name": "stdout",
          "text": [
            "Transpose: [[0 2 4 6 8]\n",
            " [1 3 5 7 9]]\n",
            "'Normal: [[0 1]\\n [2 3]\\n [4 5]\\n [6 7]\\n [8 9]]'\n"
          ]
        }
      ]
    },
    {
      "cell_type": "code",
      "source": [
        "import csv"
      ],
      "metadata": {
        "id": "PK7yr5tphqHZ"
      },
      "execution_count": 161,
      "outputs": []
    },
    {
      "cell_type": "code",
      "source": [
        "filepath = '/content/Iris.csv'"
      ],
      "metadata": {
        "id": "CqQ5EVx6iV1i"
      },
      "execution_count": 163,
      "outputs": []
    },
    {
      "cell_type": "code",
      "source": [
        "data = []\n",
        "\n",
        "with open(filepath, 'r') as csvfile:\n",
        "  reader = csv.reader(csvfile, delimiter=',')\n",
        "  for row in reader:\n",
        "    data.append(row)\n",
        "  data = np.array(data)\n",
        "\n",
        "data"
      ],
      "metadata": {
        "colab": {
          "base_uri": "https://localhost:8080/"
        },
        "id": "defYET9rh_rg",
        "outputId": "0ae385c4-2052-40ca-c148-8b067b5fa985"
      },
      "execution_count": 170,
      "outputs": [
        {
          "output_type": "execute_result",
          "data": {
            "text/plain": [
              "array([['Id', 'SepalLengthCm', 'SepalWidthCm', 'PetalLengthCm',\n",
              "        'PetalWidthCm', 'Species'],\n",
              "       ['1', '5.1', '3.5', '1.4', '0.2', 'Iris-setosa'],\n",
              "       ['2', '4.9', '3.0', '1.4', '0.2', 'Iris-setosa'],\n",
              "       ['3', '4.7', '3.2', '1.3', '0.2', 'Iris-setosa'],\n",
              "       ['4', '4.6', '3.1', '1.5', '0.2', 'Iris-setosa'],\n",
              "       ['5', '5.0', '3.6', '1.4', '0.2', 'Iris-setosa'],\n",
              "       ['6', '5.4', '3.9', '1.7', '0.4', 'Iris-setosa'],\n",
              "       ['7', '4.6', '3.4', '1.4', '0.3', 'Iris-setosa'],\n",
              "       ['8', '5.0', '3.4', '1.5', '0.2', 'Iris-setosa'],\n",
              "       ['9', '4.4', '2.9', '1.4', '0.2', 'Iris-setosa'],\n",
              "       ['10', '4.9', '3.1', '1.5', '0.1', 'Iris-setosa'],\n",
              "       ['11', '5.4', '3.7', '1.5', '0.2', 'Iris-setosa'],\n",
              "       ['12', '4.8', '3.4', '1.6', '0.2', 'Iris-setosa'],\n",
              "       ['13', '4.8', '3.0', '1.4', '0.1', 'Iris-setosa'],\n",
              "       ['14', '4.3', '3.0', '1.1', '0.1', 'Iris-setosa'],\n",
              "       ['15', '5.8', '4.0', '1.2', '0.2', 'Iris-setosa'],\n",
              "       ['16', '5.7', '4.4', '1.5', '0.4', 'Iris-setosa'],\n",
              "       ['17', '5.4', '3.9', '1.3', '0.4', 'Iris-setosa'],\n",
              "       ['18', '5.1', '3.5', '1.4', '0.3', 'Iris-setosa'],\n",
              "       ['19', '5.7', '3.8', '1.7', '0.3', 'Iris-setosa'],\n",
              "       ['20', '5.1', '3.8', '1.5', '0.3', 'Iris-setosa'],\n",
              "       ['21', '5.4', '3.4', '1.7', '0.2', 'Iris-setosa'],\n",
              "       ['22', '5.1', '3.7', '1.5', '0.4', 'Iris-setosa'],\n",
              "       ['23', '4.6', '3.6', '1.0', '0.2', 'Iris-setosa'],\n",
              "       ['24', '5.1', '3.3', '1.7', '0.5', 'Iris-setosa'],\n",
              "       ['25', '4.8', '3.4', '1.9', '0.2', 'Iris-setosa'],\n",
              "       ['26', '5.0', '3.0', '1.6', '0.2', 'Iris-setosa'],\n",
              "       ['27', '5.0', '3.4', '1.6', '0.4', 'Iris-setosa'],\n",
              "       ['28', '5.2', '3.5', '1.5', '0.2', 'Iris-setosa'],\n",
              "       ['29', '5.2', '3.4', '1.4', '0.2', 'Iris-setosa'],\n",
              "       ['30', '4.7', '3.2', '1.6', '0.2', 'Iris-setosa'],\n",
              "       ['31', '4.8', '3.1', '1.6', '0.2', 'Iris-setosa'],\n",
              "       ['32', '5.4', '3.4', '1.5', '0.4', 'Iris-setosa'],\n",
              "       ['33', '5.2', '4.1', '1.5', '0.1', 'Iris-setosa'],\n",
              "       ['34', '5.5', '4.2', '1.4', '0.2', 'Iris-setosa'],\n",
              "       ['35', '4.9', '3.1', '1.5', '0.1', 'Iris-setosa'],\n",
              "       ['36', '5.0', '3.2', '1.2', '0.2', 'Iris-setosa'],\n",
              "       ['37', '5.5', '3.5', '1.3', '0.2', 'Iris-setosa'],\n",
              "       ['38', '4.9', '3.1', '1.5', '0.1', 'Iris-setosa'],\n",
              "       ['39', '4.4', '3.0', '1.3', '0.2', 'Iris-setosa'],\n",
              "       ['40', '5.1', '3.4', '1.5', '0.2', 'Iris-setosa'],\n",
              "       ['41', '5.0', '3.5', '1.3', '0.3', 'Iris-setosa'],\n",
              "       ['42', '4.5', '2.3', '1.3', '0.3', 'Iris-setosa'],\n",
              "       ['43', '4.4', '3.2', '1.3', '0.2', 'Iris-setosa'],\n",
              "       ['44', '5.0', '3.5', '1.6', '0.6', 'Iris-setosa'],\n",
              "       ['45', '5.1', '3.8', '1.9', '0.4', 'Iris-setosa'],\n",
              "       ['46', '4.8', '3.0', '1.4', '0.3', 'Iris-setosa'],\n",
              "       ['47', '5.1', '3.8', '1.6', '0.2', 'Iris-setosa'],\n",
              "       ['48', '4.6', '3.2', '1.4', '0.2', 'Iris-setosa'],\n",
              "       ['49', '5.3', '3.7', '1.5', '0.2', 'Iris-setosa'],\n",
              "       ['50', '5.0', '3.3', '1.4', '0.2', 'Iris-setosa'],\n",
              "       ['51', '7.0', '3.2', '4.7', '1.4', 'Iris-versicolor'],\n",
              "       ['52', '6.4', '3.2', '4.5', '1.5', 'Iris-versicolor'],\n",
              "       ['53', '6.9', '3.1', '4.9', '1.5', 'Iris-versicolor'],\n",
              "       ['54', '5.5', '2.3', '4.0', '1.3', 'Iris-versicolor'],\n",
              "       ['55', '6.5', '2.8', '4.6', '1.5', 'Iris-versicolor'],\n",
              "       ['56', '5.7', '2.8', '4.5', '1.3', 'Iris-versicolor'],\n",
              "       ['57', '6.3', '3.3', '4.7', '1.6', 'Iris-versicolor'],\n",
              "       ['58', '4.9', '2.4', '3.3', '1.0', 'Iris-versicolor'],\n",
              "       ['59', '6.6', '2.9', '4.6', '1.3', 'Iris-versicolor'],\n",
              "       ['60', '5.2', '2.7', '3.9', '1.4', 'Iris-versicolor'],\n",
              "       ['61', '5.0', '2.0', '3.5', '1.0', 'Iris-versicolor'],\n",
              "       ['62', '5.9', '3.0', '4.2', '1.5', 'Iris-versicolor'],\n",
              "       ['63', '6.0', '2.2', '4.0', '1.0', 'Iris-versicolor'],\n",
              "       ['64', '6.1', '2.9', '4.7', '1.4', 'Iris-versicolor'],\n",
              "       ['65', '5.6', '2.9', '3.6', '1.3', 'Iris-versicolor'],\n",
              "       ['66', '6.7', '3.1', '4.4', '1.4', 'Iris-versicolor'],\n",
              "       ['67', '5.6', '3.0', '4.5', '1.5', 'Iris-versicolor'],\n",
              "       ['68', '5.8', '2.7', '4.1', '1.0', 'Iris-versicolor'],\n",
              "       ['69', '6.2', '2.2', '4.5', '1.5', 'Iris-versicolor'],\n",
              "       ['70', '5.6', '2.5', '3.9', '1.1', 'Iris-versicolor'],\n",
              "       ['71', '5.9', '3.2', '4.8', '1.8', 'Iris-versicolor'],\n",
              "       ['72', '6.1', '2.8', '4.0', '1.3', 'Iris-versicolor'],\n",
              "       ['73', '6.3', '2.5', '4.9', '1.5', 'Iris-versicolor'],\n",
              "       ['74', '6.1', '2.8', '4.7', '1.2', 'Iris-versicolor'],\n",
              "       ['75', '6.4', '2.9', '4.3', '1.3', 'Iris-versicolor'],\n",
              "       ['76', '6.6', '3.0', '4.4', '1.4', 'Iris-versicolor'],\n",
              "       ['77', '6.8', '2.8', '4.8', '1.4', 'Iris-versicolor'],\n",
              "       ['78', '6.7', '3.0', '5.0', '1.7', 'Iris-versicolor'],\n",
              "       ['79', '6.0', '2.9', '4.5', '1.5', 'Iris-versicolor'],\n",
              "       ['80', '5.7', '2.6', '3.5', '1.0', 'Iris-versicolor'],\n",
              "       ['81', '5.5', '2.4', '3.8', '1.1', 'Iris-versicolor'],\n",
              "       ['82', '5.5', '2.4', '3.7', '1.0', 'Iris-versicolor'],\n",
              "       ['83', '5.8', '2.7', '3.9', '1.2', 'Iris-versicolor'],\n",
              "       ['84', '6.0', '2.7', '5.1', '1.6', 'Iris-versicolor'],\n",
              "       ['85', '5.4', '3.0', '4.5', '1.5', 'Iris-versicolor'],\n",
              "       ['86', '6.0', '3.4', '4.5', '1.6', 'Iris-versicolor'],\n",
              "       ['87', '6.7', '3.1', '4.7', '1.5', 'Iris-versicolor'],\n",
              "       ['88', '6.3', '2.3', '4.4', '1.3', 'Iris-versicolor'],\n",
              "       ['89', '5.6', '3.0', '4.1', '1.3', 'Iris-versicolor'],\n",
              "       ['90', '5.5', '2.5', '4.0', '1.3', 'Iris-versicolor'],\n",
              "       ['91', '5.5', '2.6', '4.4', '1.2', 'Iris-versicolor'],\n",
              "       ['92', '6.1', '3.0', '4.6', '1.4', 'Iris-versicolor'],\n",
              "       ['93', '5.8', '2.6', '4.0', '1.2', 'Iris-versicolor'],\n",
              "       ['94', '5.0', '2.3', '3.3', '1.0', 'Iris-versicolor'],\n",
              "       ['95', '5.6', '2.7', '4.2', '1.3', 'Iris-versicolor'],\n",
              "       ['96', '5.7', '3.0', '4.2', '1.2', 'Iris-versicolor'],\n",
              "       ['97', '5.7', '2.9', '4.2', '1.3', 'Iris-versicolor'],\n",
              "       ['98', '6.2', '2.9', '4.3', '1.3', 'Iris-versicolor'],\n",
              "       ['99', '5.1', '2.5', '3.0', '1.1', 'Iris-versicolor'],\n",
              "       ['100', '5.7', '2.8', '4.1', '1.3', 'Iris-versicolor'],\n",
              "       ['101', '6.3', '3.3', '6.0', '2.5', 'Iris-virginica'],\n",
              "       ['102', '5.8', '2.7', '5.1', '1.9', 'Iris-virginica'],\n",
              "       ['103', '7.1', '3.0', '5.9', '2.1', 'Iris-virginica'],\n",
              "       ['104', '6.3', '2.9', '5.6', '1.8', 'Iris-virginica'],\n",
              "       ['105', '6.5', '3.0', '5.8', '2.2', 'Iris-virginica'],\n",
              "       ['106', '7.6', '3.0', '6.6', '2.1', 'Iris-virginica'],\n",
              "       ['107', '4.9', '2.5', '4.5', '1.7', 'Iris-virginica'],\n",
              "       ['108', '7.3', '2.9', '6.3', '1.8', 'Iris-virginica'],\n",
              "       ['109', '6.7', '2.5', '5.8', '1.8', 'Iris-virginica'],\n",
              "       ['110', '7.2', '3.6', '6.1', '2.5', 'Iris-virginica'],\n",
              "       ['111', '6.5', '3.2', '5.1', '2.0', 'Iris-virginica'],\n",
              "       ['112', '6.4', '2.7', '5.3', '1.9', 'Iris-virginica'],\n",
              "       ['113', '6.8', '3.0', '5.5', '2.1', 'Iris-virginica'],\n",
              "       ['114', '5.7', '2.5', '5.0', '2.0', 'Iris-virginica'],\n",
              "       ['115', '5.8', '2.8', '5.1', '2.4', 'Iris-virginica'],\n",
              "       ['116', '6.4', '3.2', '5.3', '2.3', 'Iris-virginica'],\n",
              "       ['117', '6.5', '3.0', '5.5', '1.8', 'Iris-virginica'],\n",
              "       ['118', '7.7', '3.8', '6.7', '2.2', 'Iris-virginica'],\n",
              "       ['119', '7.7', '2.6', '6.9', '2.3', 'Iris-virginica'],\n",
              "       ['120', '6.0', '2.2', '5.0', '1.5', 'Iris-virginica'],\n",
              "       ['121', '6.9', '3.2', '5.7', '2.3', 'Iris-virginica'],\n",
              "       ['122', '5.6', '2.8', '4.9', '2.0', 'Iris-virginica'],\n",
              "       ['123', '7.7', '2.8', '6.7', '2.0', 'Iris-virginica'],\n",
              "       ['124', '6.3', '2.7', '4.9', '1.8', 'Iris-virginica'],\n",
              "       ['125', '6.7', '3.3', '5.7', '2.1', 'Iris-virginica'],\n",
              "       ['126', '7.2', '3.2', '6.0', '1.8', 'Iris-virginica'],\n",
              "       ['127', '6.2', '2.8', '4.8', '1.8', 'Iris-virginica'],\n",
              "       ['128', '6.1', '3.0', '4.9', '1.8', 'Iris-virginica'],\n",
              "       ['129', '6.4', '2.8', '5.6', '2.1', 'Iris-virginica'],\n",
              "       ['130', '7.2', '3.0', '5.8', '1.6', 'Iris-virginica'],\n",
              "       ['131', '7.4', '2.8', '6.1', '1.9', 'Iris-virginica'],\n",
              "       ['132', '7.9', '3.8', '6.4', '2.0', 'Iris-virginica'],\n",
              "       ['133', '6.4', '2.8', '5.6', '2.2', 'Iris-virginica'],\n",
              "       ['134', '6.3', '2.8', '5.1', '1.5', 'Iris-virginica'],\n",
              "       ['135', '6.1', '2.6', '5.6', '1.4', 'Iris-virginica'],\n",
              "       ['136', '7.7', '3.0', '6.1', '2.3', 'Iris-virginica'],\n",
              "       ['137', '6.3', '3.4', '5.6', '2.4', 'Iris-virginica'],\n",
              "       ['138', '6.4', '3.1', '5.5', '1.8', 'Iris-virginica'],\n",
              "       ['139', '6.0', '3.0', '4.8', '1.8', 'Iris-virginica'],\n",
              "       ['140', '6.9', '3.1', '5.4', '2.1', 'Iris-virginica'],\n",
              "       ['141', '6.7', '3.1', '5.6', '2.4', 'Iris-virginica'],\n",
              "       ['142', '6.9', '3.1', '5.1', '2.3', 'Iris-virginica'],\n",
              "       ['143', '5.8', '2.7', '5.1', '1.9', 'Iris-virginica'],\n",
              "       ['144', '6.8', '3.2', '5.9', '2.3', 'Iris-virginica'],\n",
              "       ['145', '6.7', '3.3', '5.7', '2.5', 'Iris-virginica'],\n",
              "       ['146', '6.7', '3.0', '5.2', '2.3', 'Iris-virginica'],\n",
              "       ['147', '6.3', '2.5', '5.0', '1.9', 'Iris-virginica'],\n",
              "       ['148', '6.5', '3.0', '5.2', '2.0', 'Iris-virginica'],\n",
              "       ['149', '6.2', '3.4', '5.4', '2.3', 'Iris-virginica'],\n",
              "       ['150', '5.9', '3.0', '5.1', '1.8', 'Iris-virginica']],\n",
              "      dtype='<U15')"
            ]
          },
          "metadata": {},
          "execution_count": 170
        }
      ]
    },
    {
      "cell_type": "code",
      "source": [
        "np.save(open('data.npy', 'wb'), data)"
      ],
      "metadata": {
        "id": "jGEGopkdkmsc"
      },
      "execution_count": 171,
      "outputs": []
    },
    {
      "cell_type": "code",
      "source": [
        "import pandas as pd"
      ],
      "metadata": {
        "id": "XgsphoNtg-xB"
      },
      "execution_count": 157,
      "outputs": []
    },
    {
      "cell_type": "code",
      "source": [
        "ds =pd.read_csv(\"/content/Iris.csv\")\n",
        "ds.head()"
      ],
      "metadata": {
        "colab": {
          "base_uri": "https://localhost:8080/",
          "height": 206
        },
        "id": "VbtO2wthgvOx",
        "outputId": "eff9cf38-0ebe-41cc-fe0d-5a1ac3bd83d0"
      },
      "execution_count": 160,
      "outputs": [
        {
          "output_type": "execute_result",
          "data": {
            "text/plain": [
              "   Id  SepalLengthCm  SepalWidthCm  PetalLengthCm  PetalWidthCm      Species\n",
              "0   1            5.1           3.5            1.4           0.2  Iris-setosa\n",
              "1   2            4.9           3.0            1.4           0.2  Iris-setosa\n",
              "2   3            4.7           3.2            1.3           0.2  Iris-setosa\n",
              "3   4            4.6           3.1            1.5           0.2  Iris-setosa\n",
              "4   5            5.0           3.6            1.4           0.2  Iris-setosa"
            ],
            "text/html": [
              "\n",
              "  <div id=\"df-5c51a3e8-d6a1-4282-b92b-0a88a41e7fa8\" class=\"colab-df-container\">\n",
              "    <div>\n",
              "<style scoped>\n",
              "    .dataframe tbody tr th:only-of-type {\n",
              "        vertical-align: middle;\n",
              "    }\n",
              "\n",
              "    .dataframe tbody tr th {\n",
              "        vertical-align: top;\n",
              "    }\n",
              "\n",
              "    .dataframe thead th {\n",
              "        text-align: right;\n",
              "    }\n",
              "</style>\n",
              "<table border=\"1\" class=\"dataframe\">\n",
              "  <thead>\n",
              "    <tr style=\"text-align: right;\">\n",
              "      <th></th>\n",
              "      <th>Id</th>\n",
              "      <th>SepalLengthCm</th>\n",
              "      <th>SepalWidthCm</th>\n",
              "      <th>PetalLengthCm</th>\n",
              "      <th>PetalWidthCm</th>\n",
              "      <th>Species</th>\n",
              "    </tr>\n",
              "  </thead>\n",
              "  <tbody>\n",
              "    <tr>\n",
              "      <th>0</th>\n",
              "      <td>1</td>\n",
              "      <td>5.1</td>\n",
              "      <td>3.5</td>\n",
              "      <td>1.4</td>\n",
              "      <td>0.2</td>\n",
              "      <td>Iris-setosa</td>\n",
              "    </tr>\n",
              "    <tr>\n",
              "      <th>1</th>\n",
              "      <td>2</td>\n",
              "      <td>4.9</td>\n",
              "      <td>3.0</td>\n",
              "      <td>1.4</td>\n",
              "      <td>0.2</td>\n",
              "      <td>Iris-setosa</td>\n",
              "    </tr>\n",
              "    <tr>\n",
              "      <th>2</th>\n",
              "      <td>3</td>\n",
              "      <td>4.7</td>\n",
              "      <td>3.2</td>\n",
              "      <td>1.3</td>\n",
              "      <td>0.2</td>\n",
              "      <td>Iris-setosa</td>\n",
              "    </tr>\n",
              "    <tr>\n",
              "      <th>3</th>\n",
              "      <td>4</td>\n",
              "      <td>4.6</td>\n",
              "      <td>3.1</td>\n",
              "      <td>1.5</td>\n",
              "      <td>0.2</td>\n",
              "      <td>Iris-setosa</td>\n",
              "    </tr>\n",
              "    <tr>\n",
              "      <th>4</th>\n",
              "      <td>5</td>\n",
              "      <td>5.0</td>\n",
              "      <td>3.6</td>\n",
              "      <td>1.4</td>\n",
              "      <td>0.2</td>\n",
              "      <td>Iris-setosa</td>\n",
              "    </tr>\n",
              "  </tbody>\n",
              "</table>\n",
              "</div>\n",
              "    <div class=\"colab-df-buttons\">\n",
              "\n",
              "  <div class=\"colab-df-container\">\n",
              "    <button class=\"colab-df-convert\" onclick=\"convertToInteractive('df-5c51a3e8-d6a1-4282-b92b-0a88a41e7fa8')\"\n",
              "            title=\"Convert this dataframe to an interactive table.\"\n",
              "            style=\"display:none;\">\n",
              "\n",
              "  <svg xmlns=\"http://www.w3.org/2000/svg\" height=\"24px\" viewBox=\"0 -960 960 960\">\n",
              "    <path d=\"M120-120v-720h720v720H120Zm60-500h600v-160H180v160Zm220 220h160v-160H400v160Zm0 220h160v-160H400v160ZM180-400h160v-160H180v160Zm440 0h160v-160H620v160ZM180-180h160v-160H180v160Zm440 0h160v-160H620v160Z\"/>\n",
              "  </svg>\n",
              "    </button>\n",
              "\n",
              "  <style>\n",
              "    .colab-df-container {\n",
              "      display:flex;\n",
              "      gap: 12px;\n",
              "    }\n",
              "\n",
              "    .colab-df-convert {\n",
              "      background-color: #E8F0FE;\n",
              "      border: none;\n",
              "      border-radius: 50%;\n",
              "      cursor: pointer;\n",
              "      display: none;\n",
              "      fill: #1967D2;\n",
              "      height: 32px;\n",
              "      padding: 0 0 0 0;\n",
              "      width: 32px;\n",
              "    }\n",
              "\n",
              "    .colab-df-convert:hover {\n",
              "      background-color: #E2EBFA;\n",
              "      box-shadow: 0px 1px 2px rgba(60, 64, 67, 0.3), 0px 1px 3px 1px rgba(60, 64, 67, 0.15);\n",
              "      fill: #174EA6;\n",
              "    }\n",
              "\n",
              "    .colab-df-buttons div {\n",
              "      margin-bottom: 4px;\n",
              "    }\n",
              "\n",
              "    [theme=dark] .colab-df-convert {\n",
              "      background-color: #3B4455;\n",
              "      fill: #D2E3FC;\n",
              "    }\n",
              "\n",
              "    [theme=dark] .colab-df-convert:hover {\n",
              "      background-color: #434B5C;\n",
              "      box-shadow: 0px 1px 3px 1px rgba(0, 0, 0, 0.15);\n",
              "      filter: drop-shadow(0px 1px 2px rgba(0, 0, 0, 0.3));\n",
              "      fill: #FFFFFF;\n",
              "    }\n",
              "  </style>\n",
              "\n",
              "    <script>\n",
              "      const buttonEl =\n",
              "        document.querySelector('#df-5c51a3e8-d6a1-4282-b92b-0a88a41e7fa8 button.colab-df-convert');\n",
              "      buttonEl.style.display =\n",
              "        google.colab.kernel.accessAllowed ? 'block' : 'none';\n",
              "\n",
              "      async function convertToInteractive(key) {\n",
              "        const element = document.querySelector('#df-5c51a3e8-d6a1-4282-b92b-0a88a41e7fa8');\n",
              "        const dataTable =\n",
              "          await google.colab.kernel.invokeFunction('convertToInteractive',\n",
              "                                                    [key], {});\n",
              "        if (!dataTable) return;\n",
              "\n",
              "        const docLinkHtml = 'Like what you see? Visit the ' +\n",
              "          '<a target=\"_blank\" href=https://colab.research.google.com/notebooks/data_table.ipynb>data table notebook</a>'\n",
              "          + ' to learn more about interactive tables.';\n",
              "        element.innerHTML = '';\n",
              "        dataTable['output_type'] = 'display_data';\n",
              "        await google.colab.output.renderOutput(dataTable, element);\n",
              "        const docLink = document.createElement('div');\n",
              "        docLink.innerHTML = docLinkHtml;\n",
              "        element.appendChild(docLink);\n",
              "      }\n",
              "    </script>\n",
              "  </div>\n",
              "\n",
              "\n",
              "<div id=\"df-c2d8b638-dab0-4524-bf8e-d9334126cd51\">\n",
              "  <button class=\"colab-df-quickchart\" onclick=\"quickchart('df-c2d8b638-dab0-4524-bf8e-d9334126cd51')\"\n",
              "            title=\"Suggest charts\"\n",
              "            style=\"display:none;\">\n",
              "\n",
              "<svg xmlns=\"http://www.w3.org/2000/svg\" height=\"24px\"viewBox=\"0 0 24 24\"\n",
              "     width=\"24px\">\n",
              "    <g>\n",
              "        <path d=\"M19 3H5c-1.1 0-2 .9-2 2v14c0 1.1.9 2 2 2h14c1.1 0 2-.9 2-2V5c0-1.1-.9-2-2-2zM9 17H7v-7h2v7zm4 0h-2V7h2v10zm4 0h-2v-4h2v4z\"/>\n",
              "    </g>\n",
              "</svg>\n",
              "  </button>\n",
              "\n",
              "<style>\n",
              "  .colab-df-quickchart {\n",
              "      --bg-color: #E8F0FE;\n",
              "      --fill-color: #1967D2;\n",
              "      --hover-bg-color: #E2EBFA;\n",
              "      --hover-fill-color: #174EA6;\n",
              "      --disabled-fill-color: #AAA;\n",
              "      --disabled-bg-color: #DDD;\n",
              "  }\n",
              "\n",
              "  [theme=dark] .colab-df-quickchart {\n",
              "      --bg-color: #3B4455;\n",
              "      --fill-color: #D2E3FC;\n",
              "      --hover-bg-color: #434B5C;\n",
              "      --hover-fill-color: #FFFFFF;\n",
              "      --disabled-bg-color: #3B4455;\n",
              "      --disabled-fill-color: #666;\n",
              "  }\n",
              "\n",
              "  .colab-df-quickchart {\n",
              "    background-color: var(--bg-color);\n",
              "    border: none;\n",
              "    border-radius: 50%;\n",
              "    cursor: pointer;\n",
              "    display: none;\n",
              "    fill: var(--fill-color);\n",
              "    height: 32px;\n",
              "    padding: 0;\n",
              "    width: 32px;\n",
              "  }\n",
              "\n",
              "  .colab-df-quickchart:hover {\n",
              "    background-color: var(--hover-bg-color);\n",
              "    box-shadow: 0 1px 2px rgba(60, 64, 67, 0.3), 0 1px 3px 1px rgba(60, 64, 67, 0.15);\n",
              "    fill: var(--button-hover-fill-color);\n",
              "  }\n",
              "\n",
              "  .colab-df-quickchart-complete:disabled,\n",
              "  .colab-df-quickchart-complete:disabled:hover {\n",
              "    background-color: var(--disabled-bg-color);\n",
              "    fill: var(--disabled-fill-color);\n",
              "    box-shadow: none;\n",
              "  }\n",
              "\n",
              "  .colab-df-spinner {\n",
              "    border: 2px solid var(--fill-color);\n",
              "    border-color: transparent;\n",
              "    border-bottom-color: var(--fill-color);\n",
              "    animation:\n",
              "      spin 1s steps(1) infinite;\n",
              "  }\n",
              "\n",
              "  @keyframes spin {\n",
              "    0% {\n",
              "      border-color: transparent;\n",
              "      border-bottom-color: var(--fill-color);\n",
              "      border-left-color: var(--fill-color);\n",
              "    }\n",
              "    20% {\n",
              "      border-color: transparent;\n",
              "      border-left-color: var(--fill-color);\n",
              "      border-top-color: var(--fill-color);\n",
              "    }\n",
              "    30% {\n",
              "      border-color: transparent;\n",
              "      border-left-color: var(--fill-color);\n",
              "      border-top-color: var(--fill-color);\n",
              "      border-right-color: var(--fill-color);\n",
              "    }\n",
              "    40% {\n",
              "      border-color: transparent;\n",
              "      border-right-color: var(--fill-color);\n",
              "      border-top-color: var(--fill-color);\n",
              "    }\n",
              "    60% {\n",
              "      border-color: transparent;\n",
              "      border-right-color: var(--fill-color);\n",
              "    }\n",
              "    80% {\n",
              "      border-color: transparent;\n",
              "      border-right-color: var(--fill-color);\n",
              "      border-bottom-color: var(--fill-color);\n",
              "    }\n",
              "    90% {\n",
              "      border-color: transparent;\n",
              "      border-bottom-color: var(--fill-color);\n",
              "    }\n",
              "  }\n",
              "</style>\n",
              "\n",
              "  <script>\n",
              "    async function quickchart(key) {\n",
              "      const quickchartButtonEl =\n",
              "        document.querySelector('#' + key + ' button');\n",
              "      quickchartButtonEl.disabled = true;  // To prevent multiple clicks.\n",
              "      quickchartButtonEl.classList.add('colab-df-spinner');\n",
              "      try {\n",
              "        const charts = await google.colab.kernel.invokeFunction(\n",
              "            'suggestCharts', [key], {});\n",
              "      } catch (error) {\n",
              "        console.error('Error during call to suggestCharts:', error);\n",
              "      }\n",
              "      quickchartButtonEl.classList.remove('colab-df-spinner');\n",
              "      quickchartButtonEl.classList.add('colab-df-quickchart-complete');\n",
              "    }\n",
              "    (() => {\n",
              "      let quickchartButtonEl =\n",
              "        document.querySelector('#df-c2d8b638-dab0-4524-bf8e-d9334126cd51 button');\n",
              "      quickchartButtonEl.style.display =\n",
              "        google.colab.kernel.accessAllowed ? 'block' : 'none';\n",
              "    })();\n",
              "  </script>\n",
              "</div>\n",
              "\n",
              "    </div>\n",
              "  </div>\n"
            ],
            "application/vnd.google.colaboratory.intrinsic+json": {
              "type": "dataframe",
              "variable_name": "ds",
              "summary": "{\n  \"name\": \"ds\",\n  \"rows\": 150,\n  \"fields\": [\n    {\n      \"column\": \"Id\",\n      \"properties\": {\n        \"dtype\": \"number\",\n        \"std\": 43,\n        \"min\": 1,\n        \"max\": 150,\n        \"num_unique_values\": 150,\n        \"samples\": [\n          74,\n          19,\n          119\n        ],\n        \"semantic_type\": \"\",\n        \"description\": \"\"\n      }\n    },\n    {\n      \"column\": \"SepalLengthCm\",\n      \"properties\": {\n        \"dtype\": \"number\",\n        \"std\": 0.8280661279778629,\n        \"min\": 4.3,\n        \"max\": 7.9,\n        \"num_unique_values\": 35,\n        \"samples\": [\n          6.2,\n          4.5,\n          5.6\n        ],\n        \"semantic_type\": \"\",\n        \"description\": \"\"\n      }\n    },\n    {\n      \"column\": \"SepalWidthCm\",\n      \"properties\": {\n        \"dtype\": \"number\",\n        \"std\": 0.4335943113621737,\n        \"min\": 2.0,\n        \"max\": 4.4,\n        \"num_unique_values\": 23,\n        \"samples\": [\n          2.3,\n          4.0,\n          3.5\n        ],\n        \"semantic_type\": \"\",\n        \"description\": \"\"\n      }\n    },\n    {\n      \"column\": \"PetalLengthCm\",\n      \"properties\": {\n        \"dtype\": \"number\",\n        \"std\": 1.7644204199522617,\n        \"min\": 1.0,\n        \"max\": 6.9,\n        \"num_unique_values\": 43,\n        \"samples\": [\n          6.7,\n          3.8,\n          3.7\n        ],\n        \"semantic_type\": \"\",\n        \"description\": \"\"\n      }\n    },\n    {\n      \"column\": \"PetalWidthCm\",\n      \"properties\": {\n        \"dtype\": \"number\",\n        \"std\": 0.7631607417008414,\n        \"min\": 0.1,\n        \"max\": 2.5,\n        \"num_unique_values\": 22,\n        \"samples\": [\n          0.2,\n          1.2,\n          1.3\n        ],\n        \"semantic_type\": \"\",\n        \"description\": \"\"\n      }\n    },\n    {\n      \"column\": \"Species\",\n      \"properties\": {\n        \"dtype\": \"category\",\n        \"num_unique_values\": 3,\n        \"samples\": [\n          \"Iris-setosa\",\n          \"Iris-versicolor\",\n          \"Iris-virginica\"\n        ],\n        \"semantic_type\": \"\",\n        \"description\": \"\"\n      }\n    }\n  ]\n}"
            }
          },
          "metadata": {},
          "execution_count": 160
        }
      ]
    },
    {
      "cell_type": "markdown",
      "source": [
        "# **Functions**"
      ],
      "metadata": {
        "id": "EpGwVf22DLRC"
      }
    },
    {
      "cell_type": "code",
      "source": [
        "x = 10\n",
        "y = 20\n",
        "\n",
        "z = x + y\n",
        "print(z)"
      ],
      "metadata": {
        "colab": {
          "base_uri": "https://localhost:8080/"
        },
        "id": "vUY2_kSDCvH0",
        "outputId": "3a0cfbf4-0106-47ed-d0de-76a2c63d794f"
      },
      "execution_count": 23,
      "outputs": [
        {
          "output_type": "stream",
          "name": "stdout",
          "text": [
            "30\n"
          ]
        }
      ]
    },
    {
      "cell_type": "code",
      "source": [
        "def add(x, y):\n",
        "  z = x + y\n",
        "  return z\n",
        "\n",
        "print(add(x, y))"
      ],
      "metadata": {
        "colab": {
          "base_uri": "https://localhost:8080/"
        },
        "id": "pWW-KPBXC3Y5",
        "outputId": "940a44b1-cc06-458d-c5c7-ccedc888c86b"
      },
      "execution_count": 24,
      "outputs": [
        {
          "output_type": "stream",
          "name": "stdout",
          "text": [
            "30\n"
          ]
        }
      ]
    }
  ]
}