{
  "nbformat": 4,
  "nbformat_minor": 0,
  "metadata": {
    "colab": {
      "provenance": []
    },
    "kernelspec": {
      "name": "python3",
      "display_name": "Python 3"
    },
    "language_info": {
      "name": "python"
    }
  },
  "cells": [
    {
      "cell_type": "code",
      "execution_count": 11,
      "metadata": {
        "colab": {
          "base_uri": "https://localhost:8080/"
        },
        "id": "5D9udtXoYnjB",
        "outputId": "f8741cb4-94ef-425c-8d9e-e027efb13eac"
      },
      "outputs": [
        {
          "output_type": "stream",
          "name": "stdout",
          "text": [
            "Enter the length of List: 5\n",
            "Enter the entry: 1\n",
            "Enter the entry: 2\n",
            "Enter the entry: 3\n",
            "Enter the entry: 4\n",
            "Enter the entry: 5\n",
            "[1, 2, 3, 4, 5]\n",
            "Do you want to add more entries? (Y/N)y\n",
            "Enter the entry: 6\n",
            "Enter the index: 2\n",
            "Do you want to add more entries? (Y/N)y\n",
            "Enter the entry: 7\n",
            "Enter the index: 2\n",
            "Do you want to add more entries? (Y/N)n\n",
            "Thank You\n"
          ]
        },
        {
          "output_type": "execute_result",
          "data": {
            "text/plain": [
              "[1, 2, 7, 6, 3, 4, 5]"
            ]
          },
          "metadata": {},
          "execution_count": 11
        }
      ],
      "source": [
        "length = input(\"Enter the length of List: \")\n",
        "length = int(length)\n",
        "list = []\n",
        "\n",
        "for i in range(length):\n",
        "  entry = input(\"Enter the entry: \")\n",
        "  entry = int(entry)\n",
        "  list.append(entry)\n",
        "print(list)\n",
        "\n",
        "moreInputs = input(\"Do you want to add more entries? (Y/N)\")\n",
        "while(moreInputs == \"Y\" or moreInputs == \"y\" ):\n",
        "    entry = input(\"Enter the entry: \")\n",
        "    entry = int(entry)\n",
        "    index = input(\"Enter the index: \")\n",
        "    index = int(index)\n",
        "    list.insert(index, entry)\n",
        "    moreInputs = input(\"Do you want to add more entries? (Y/N)\")\n",
        "\n",
        "print(\"Thank You\")\n",
        "\n",
        "list"
      ]
    }
  ]
}