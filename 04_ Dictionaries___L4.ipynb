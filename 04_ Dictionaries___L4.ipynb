{
  "nbformat": 4,
  "nbformat_minor": 0,
  "metadata": {
    "colab": {
      "provenance": []
    },
    "kernelspec": {
      "name": "python3",
      "display_name": "Python 3"
    },
    "language_info": {
      "name": "python"
    }
  },
  "cells": [
    {
      "cell_type": "markdown",
      "source": [
        "# **Data Processing**"
      ],
      "metadata": {
        "id": "X9E5rCua4PRg"
      }
    },
    {
      "cell_type": "markdown",
      "source": [
        "### **Methods**\n",
        "1. *Manual*  no machine involved (i.e dry run)\n",
        "2. *Electronic*  by code (i.e Crawlers)\n",
        "3. *Mechanical*  hardware involved\n",
        "---\n",
        "---\n",
        "### **Types Of Data Processing**\n",
        "1. *Single User Processing*  Personal Computers, Gaming Consoles\n",
        "2. *Multiple User Processing*  Servers, ERP Systems, Shared Database Systems\n",
        "3. *Batch Processing*  Processing Larger Amount of Data (Banking Systems)\n",
        "4. *Realtime Processing*  Response according to Current Env/Situatoin (Stock, Binance)/ Immediate Input Required\n",
        "5. *Online Processing*   Processing Data Online\n",
        "6. *Time-Sharing Processing*  *Multiple People* can share *Multiple Inputs* on *Multiple Times* - **Centralized Server**\n",
        "7. Distributed Processing  Multiple Servers can be accessed by Multiple Users\n",
        "---\n",
        "---\n",
        "**Data Extraction**  extracting data from different sorces and collecting them\n",
        "\n",
        "**Data Warehousing**  combine data from different sources by a proccess ETL (**E**xtracion **T**ransformation **L**oading)\n",
        "1. Extraction  data extracted from one or more sources\n",
        "2. Transfoemation  Cleaning Anomlies\n",
        "3. Loading  Uploading in your Machine and Applying a ML Algo\n",
        "---\n",
        "---\n",
        "### **Types of Data Extraction**\n",
        "1. *Customer data* ➡ Data About Customers, Buying History, Intrests\n",
        "2. *Financial Data* ➡ Business Management, Profit/Loss, Strategy\n",
        "3. *User Task Data/ Process Performance Data* ➡ Data After Applying Process/Task\n",
        "---\n",
        "---\n",
        "<!DOCTYPE html>\n",
        "<html lang=\"en\">\n",
        "<head>\n",
        "    <meta charset=\"UTF-8\">\n",
        "    <meta name=\"viewport\" content=\"width=device-width, initial-scale=1.0\">\n",
        "    <title>Missing Data Example</title>\n",
        "    <style>\n",
        "        table {\n",
        "            width: 50%;\n",
        "            border-collapse: collapse;\n",
        "            margin: 20px auto;\n",
        "        }\n",
        "        th, td {\n",
        "            border: 1px solid #333;\n",
        "            padding: 8px;\n",
        "            text-align: center;\n",
        "        }\n",
        "        th {\n",
        "            background-color: #f2f2f2;\n",
        "        }\n",
        "    </style>\n",
        "</head>\n",
        "<body>\n",
        "\n",
        "<table>\n",
        "    <tr>\n",
        "        <th>Name</th>\n",
        "        <th>Age</th>\n",
        "        <th>City</th>\n",
        "    </tr>\n",
        "    <tr>\n",
        "        <td>John</td>\n",
        "        <td>-</td>\n",
        "        <td>Null</td>\n",
        "    </tr>\n",
        "    <tr>\n",
        "        <td>Null</td>\n",
        "        <td>25</td>\n",
        "        <td>Los Angeles</td>\n",
        "    </tr>\n",
        "    <tr>\n",
        "        <td>Mike</td>\n",
        "        <td>35</td>\n",
        "        <td></td>\n",
        "    </tr>\n",
        "</table>\n",
        "\n",
        "</body>\n",
        "</html>\n",
        "\n",
        "1. *Remove* -> Incomplete Data\n",
        "2. *Interpolate* -> Statistic Techniques (Mean, Median, Mode)\n",
        "\n",
        "*For Categorical  Values*:\n",
        "1. Replace with Value Above It\n",
        "2. Replace with Value Below It.\n",
        "---\n",
        "---\n",
        "### **Removing Duplicates**\n",
        "If getting data from multiple resources.\n",
        "Row Duplicates\n",
        "\n",
        "*If any one column value is different than do not remove.*\n",
        "\n",
        "---\n",
        "---\n",
        "### **Outliers**\n",
        "Values that are very far from **Normal Range** of Data. (Extreme Values)\n",
        "\n",
        "1. *Normalization* --> All Values divided by Max\n",
        "2. *Scaling*\n",
        "\n",
        "### *Categorical Data (Encoding)*\n",
        "encoding -> in numerical values\n",
        "\n",
        "**One-Hot Encoding**\n",
        "\n",
        "---\n",
        "---"
      ],
      "metadata": {
        "id": "ll6X5G0s4S5G"
      }
    },
    {
      "cell_type": "markdown",
      "source": [
        "# **Lab 4**"
      ],
      "metadata": {
        "id": "T-fEwHYz7naf"
      }
    },
    {
      "cell_type": "code",
      "source": [
        "l1 = []\n",
        "for i in range(1, 11):\n",
        "    if(i%2 != 0):\n",
        "      l1.append(i**2)\n",
        "l1"
      ],
      "metadata": {
        "colab": {
          "base_uri": "https://localhost:8080/"
        },
        "id": "moALWQEGSPDc",
        "outputId": "fc570cae-fd3d-40f3-ae51-2e05ec38ff6a"
      },
      "execution_count": 5,
      "outputs": [
        {
          "output_type": "execute_result",
          "data": {
            "text/plain": [
              "[1, 9, 25, 49, 81]"
            ]
          },
          "metadata": {},
          "execution_count": 5
        }
      ]
    },
    {
      "cell_type": "code",
      "execution_count": 6,
      "metadata": {
        "colab": {
          "base_uri": "https://localhost:8080/"
        },
        "id": "jsongDZo4Ouy",
        "outputId": "43d82846-e149-47ef-ab53-5c1e8279fb8b"
      },
      "outputs": [
        {
          "output_type": "execute_result",
          "data": {
            "text/plain": [
              "[1, 9, 25, 49, 81]"
            ]
          },
          "metadata": {},
          "execution_count": 6
        }
      ],
      "source": [
        "odd_sq = [x**2 for x in range (1, 11) if x%2 != 0]\n",
        "odd_sq"
      ]
    },
    {
      "cell_type": "markdown",
      "source": [
        "## **Dictionary {...}**"
      ],
      "metadata": {
        "id": "KWp9N4q2TF6x"
      }
    },
    {
      "cell_type": "markdown",
      "source": [
        "<!DOCTYPE html>\n",
        "<html lang=\"en\">\n",
        "<head>\n",
        "    <meta charset=\"UTF-8\">\n",
        "    <meta name=\"viewport\" content=\"width=device-width, initial-scale=1.0\">\n",
        "    <title>Dictionary</title>\n",
        "    <style>\n",
        "        table {\n",
        "            width: 50%;\n",
        "            border-collapse: collapse;\n",
        "            margin: 20px auto;\n",
        "        }\n",
        "        th, td {\n",
        "            border: 1px solid #333;\n",
        "            padding: 8px;\n",
        "            text-align: center;\n",
        "        }\n",
        "        th {\n",
        "            background-color: #f2f2f2;\n",
        "        }\n",
        "    </style>\n",
        "</head>\n",
        "<body>\n",
        "\n",
        "<table>\n",
        "    <tr>\n",
        "        <th>Key</th>\n",
        "        <th>Value</th>\n",
        "    </tr>\n",
        "    <tr>\n",
        "        <td>A</td>\n",
        "        <td>a</td>\n",
        "    </tr>\n",
        "    <tr>\n",
        "        <td>B</td>\n",
        "        <td>b</td>\n",
        "    </tr>\n",
        "    <tr>\n",
        "        <td>C</td>\n",
        "        <td>c</td>\n",
        "    </tr>\n",
        "</table>\n",
        "\n",
        "</body>\n",
        "</html>"
      ],
      "metadata": {
        "id": "pwKUIgEnTeN_"
      }
    },
    {
      "cell_type": "markdown",
      "source": [
        "1. Key -> Unique\n",
        "2. Value -> Multiple Values(String, Number, Tuple, List)"
      ],
      "metadata": {
        "id": "tPRPyVCYTyMf"
      }
    },
    {
      "cell_type": "code",
      "source": [
        "dict1 = {\n",
        "    'Name': ['a', 'b', 'c', 'd'],\n",
        "    1: 'Geeks'\n",
        "}\n",
        "dict1"
      ],
      "metadata": {
        "colab": {
          "base_uri": "https://localhost:8080/"
        },
        "id": "EpealMzVSAdl",
        "outputId": "0bd0cb32-0cf5-4078-c495-f80540383a25"
      },
      "execution_count": 10,
      "outputs": [
        {
          "output_type": "execute_result",
          "data": {
            "text/plain": [
              "{'Name': ['a', 'b', 'c', 'd'], 1: 'Geeks'}"
            ]
          },
          "metadata": {},
          "execution_count": 10
        }
      ]
    },
    {
      "cell_type": "code",
      "source": [
        "d2 = {}\n",
        "d2"
      ],
      "metadata": {
        "colab": {
          "base_uri": "https://localhost:8080/"
        },
        "id": "_wGv34TpUcMu",
        "outputId": "e70cd8be-3e56-48fa-c5ef-d06d6b056bb5"
      },
      "execution_count": 11,
      "outputs": [
        {
          "output_type": "execute_result",
          "data": {
            "text/plain": [
              "{}"
            ]
          },
          "metadata": {},
          "execution_count": 11
        }
      ]
    },
    {
      "cell_type": "code",
      "source": [
        "t1 = list(dict1)\n",
        "t1"
      ],
      "metadata": {
        "colab": {
          "base_uri": "https://localhost:8080/"
        },
        "id": "ksK5psylUiYd",
        "outputId": "f450f645-472a-4a48-ff49-e675beb47cf8"
      },
      "execution_count": 13,
      "outputs": [
        {
          "output_type": "execute_result",
          "data": {
            "text/plain": [
              "['Name', 1]"
            ]
          },
          "metadata": {},
          "execution_count": 13
        }
      ]
    },
    {
      "cell_type": "code",
      "source": [
        "t2 = [1, 2, 3, 4, 5]\n",
        "d2 = dict.fromkeys(t2)\n",
        "d2"
      ],
      "metadata": {
        "colab": {
          "base_uri": "https://localhost:8080/"
        },
        "id": "VQWP1ur1U3w0",
        "outputId": "e57d14b6-59fe-4b1a-93d2-26ef0f4d5670"
      },
      "execution_count": 15,
      "outputs": [
        {
          "output_type": "execute_result",
          "data": {
            "text/plain": [
              "{1: None, 2: None, 3: None, 4: None, 5: None}"
            ]
          },
          "metadata": {},
          "execution_count": 15
        }
      ]
    },
    {
      "cell_type": "code",
      "source": [
        "d3 =dict([(1, 'Geeks'), (2, 'for'), (3, 'Geeks')])\n",
        "d3[2]"
      ],
      "metadata": {
        "colab": {
          "base_uri": "https://localhost:8080/",
          "height": 35
        },
        "id": "vhaoxobiVuTb",
        "outputId": "5eee6046-803e-418f-aa79-aa8629afdfb2"
      },
      "execution_count": 22,
      "outputs": [
        {
          "output_type": "execute_result",
          "data": {
            "text/plain": [
              "'for'"
            ],
            "application/vnd.google.colaboratory.intrinsic+json": {
              "type": "string"
            }
          },
          "metadata": {},
          "execution_count": 22
        }
      ]
    },
    {
      "cell_type": "code",
      "source": [
        "d4 =dict([(1, [1,2,3,4]), (2, ['Geeks', 'for', 'Geeks']), (3, 'Geeks')])\n",
        "d4[1]"
      ],
      "metadata": {
        "colab": {
          "base_uri": "https://localhost:8080/"
        },
        "id": "petT9FWIW2uj",
        "outputId": "51ca4b2d-ded9-487f-e144-bda56f8f61e8"
      },
      "execution_count": 23,
      "outputs": [
        {
          "output_type": "execute_result",
          "data": {
            "text/plain": [
              "[1, 2, 3, 4]"
            ]
          },
          "metadata": {},
          "execution_count": 23
        }
      ]
    },
    {
      "cell_type": "code",
      "source": [
        "# Dictionary Within a Dictionary\n",
        "d5 = {\n",
        "    1: {\n",
        "        'Apple': ['Green', 'Red', 'White'],\n",
        "        'Banana': ['Bangali', 'Sindhi', 'Dhaka']},\n",
        "    2: {\n",
        "        'Mango': ['Yellow', 'Green', 'Red'],\n",
        "        'Orange': ['Orange;', 'Yellow', 'Red']\n",
        "      }\n",
        "    }\n",
        "d5[1]['Apple']"
      ],
      "metadata": {
        "colab": {
          "base_uri": "https://localhost:8080/"
        },
        "id": "qMpYDqCvXL38",
        "outputId": "5ab38fd0-e6d1-4d83-8cb4-da0f5bf4e4e9"
      },
      "execution_count": 35,
      "outputs": [
        {
          "output_type": "execute_result",
          "data": {
            "text/plain": [
              "['Green', 'Red', 'White']"
            ]
          },
          "metadata": {},
          "execution_count": 35
        }
      ]
    },
    {
      "cell_type": "code",
      "source": [
        "!pip install prettyprint"
      ],
      "metadata": {
        "colab": {
          "base_uri": "https://localhost:8080/"
        },
        "id": "GLYWPyZUXklq",
        "outputId": "0d86410f-656c-4a3d-c011-f390a5fb41c5"
      },
      "execution_count": 25,
      "outputs": [
        {
          "output_type": "stream",
          "name": "stdout",
          "text": [
            "Collecting prettyprint\n",
            "  Downloading prettyprint-0.1.5.tar.gz (2.1 kB)\n",
            "  Preparing metadata (setup.py) ... \u001b[?25l\u001b[?25hdone\n",
            "Building wheels for collected packages: prettyprint\n",
            "  Building wheel for prettyprint (setup.py) ... \u001b[?25l\u001b[?25hdone\n",
            "  Created wheel for prettyprint: filename=prettyprint-0.1.5-py3-none-any.whl size=3027 sha256=fb882417db18afed8f71c3afb1323f90df70f442a655d118f11a9c0afee6159e\n",
            "  Stored in directory: /root/.cache/pip/wheels/b2/d0/51/477413885481c635ab7c6400f96f47b8a0971bbc1241ff9c9f\n",
            "Successfully built prettyprint\n",
            "Installing collected packages: prettyprint\n",
            "Successfully installed prettyprint-0.1.5\n"
          ]
        }
      ]
    },
    {
      "cell_type": "code",
      "source": [
        "import pprint\n",
        "pprint.pprint(d5)"
      ],
      "metadata": {
        "colab": {
          "base_uri": "https://localhost:8080/"
        },
        "id": "g-xNafmXXrDT",
        "outputId": "03047977-c612-4492-dd48-e96307c50d15"
      },
      "execution_count": 36,
      "outputs": [
        {
          "output_type": "stream",
          "name": "stdout",
          "text": [
            "{1: {'Apple': ['Green', 'Red', 'White'],\n",
            "     'Banana': ['Bangali', 'Sindhi', 'Dhaka']},\n",
            " 2: {'Mango': ['Yellow', 'Green', 'Red'],\n",
            "     'Orange': ['Orange;', 'Yellow', 'Red']}}\n"
          ]
        }
      ]
    },
    {
      "cell_type": "code",
      "source": [
        "d6 = {}\n",
        "d6"
      ],
      "metadata": {
        "colab": {
          "base_uri": "https://localhost:8080/"
        },
        "id": "nb6x_twbYnVj",
        "outputId": "e09c93d2-57b5-4d4a-9aff-dd7c031b79de"
      },
      "execution_count": 37,
      "outputs": [
        {
          "output_type": "execute_result",
          "data": {
            "text/plain": [
              "{}"
            ]
          },
          "metadata": {},
          "execution_count": 37
        }
      ]
    },
    {
      "cell_type": "code",
      "source": [
        "d6['Ali'] = [100, 100 , 100]\n",
        "d6['Sara'] = [50, 50, 49]\n",
        "d6['Zeeshan'] = [0, 1, 2]\n",
        "d6['Aaina'] = (8, 9, 10)\n",
        "pprint.pprint(d6)"
      ],
      "metadata": {
        "colab": {
          "base_uri": "https://localhost:8080/"
        },
        "id": "nqr7qR1GYrkB",
        "outputId": "8c9d83bf-1393-4374-fc14-26873c527bae"
      },
      "execution_count": 47,
      "outputs": [
        {
          "output_type": "stream",
          "name": "stdout",
          "text": [
            "{'Aaina': (8, 9, 10),\n",
            " 'Ali': [100, 100, 100],\n",
            " 'Sara': [50, 50, 49],\n",
            " 'Zeeshan': [0, 1, 2]}\n"
          ]
        }
      ]
    },
    {
      "cell_type": "code",
      "source": [
        "d6['Ali'].append(99)\n",
        "d6"
      ],
      "metadata": {
        "colab": {
          "base_uri": "https://localhost:8080/"
        },
        "id": "QkahO9w5ZYsD",
        "outputId": "59bf6da7-7a82-4093-80f1-c3ad5896ce4a"
      },
      "execution_count": 45,
      "outputs": [
        {
          "output_type": "execute_result",
          "data": {
            "text/plain": [
              "{'Ali': [100, 100, 100, 99],\n",
              " 'Sara': [50, 50, 49],\n",
              " 'Zeeshan': [0, 1, 2],\n",
              " 'Aaina': (8, 9, 10)}"
            ]
          },
          "metadata": {},
          "execution_count": 45
        }
      ]
    },
    {
      "cell_type": "code",
      "source": [
        "# Tuple\n",
        "d6['Aaina'].append(12)\n",
        "d6"
      ],
      "metadata": {
        "colab": {
          "base_uri": "https://localhost:8080/",
          "height": 158
        },
        "id": "vZcaakaCZrMh",
        "outputId": "345098a9-4a28-4150-93b3-6101742bd943"
      },
      "execution_count": 46,
      "outputs": [
        {
          "output_type": "error",
          "ename": "AttributeError",
          "evalue": "'tuple' object has no attribute 'append'",
          "traceback": [
            "\u001b[0;31m---------------------------------------------------------------------------\u001b[0m",
            "\u001b[0;31mAttributeError\u001b[0m                            Traceback (most recent call last)",
            "\u001b[0;32m<ipython-input-46-a0726c247222>\u001b[0m in \u001b[0;36m<cell line: 1>\u001b[0;34m()\u001b[0m\n\u001b[0;32m----> 1\u001b[0;31m \u001b[0md6\u001b[0m\u001b[0;34m[\u001b[0m\u001b[0;34m'Aaina'\u001b[0m\u001b[0;34m]\u001b[0m\u001b[0;34m.\u001b[0m\u001b[0mappend\u001b[0m\u001b[0;34m(\u001b[0m\u001b[0;36m12\u001b[0m\u001b[0;34m)\u001b[0m\u001b[0;34m\u001b[0m\u001b[0;34m\u001b[0m\u001b[0m\n\u001b[0m\u001b[1;32m      2\u001b[0m \u001b[0md6\u001b[0m\u001b[0;34m\u001b[0m\u001b[0;34m\u001b[0m\u001b[0m\n",
            "\u001b[0;31mAttributeError\u001b[0m: 'tuple' object has no attribute 'append'"
          ]
        }
      ]
    },
    {
      "cell_type": "code",
      "source": [
        "d6['Laraib'] = ''\n",
        "d6"
      ],
      "metadata": {
        "colab": {
          "base_uri": "https://localhost:8080/"
        },
        "id": "hpdHw6RiZ9Bh",
        "outputId": "88ad10f2-8e64-4978-8d1c-a700c950fcb0"
      },
      "execution_count": 49,
      "outputs": [
        {
          "output_type": "execute_result",
          "data": {
            "text/plain": [
              "{'Ali': [100, 100, 100],\n",
              " 'Sara': [50, 50, 49],\n",
              " 'Zeeshan': [0, 1, 2],\n",
              " 'Aaina': (8, 9, 10),\n",
              " 'Laraib': ''}"
            ]
          },
          "metadata": {},
          "execution_count": 49
        }
      ]
    },
    {
      "cell_type": "code",
      "source": [
        "d6['Ali'][1] = 5\n",
        "d6"
      ],
      "metadata": {
        "colab": {
          "base_uri": "https://localhost:8080/"
        },
        "id": "SMDK5MuVaFDe",
        "outputId": "3771ade9-9451-46f8-99e3-16d564eba388"
      },
      "execution_count": 51,
      "outputs": [
        {
          "output_type": "execute_result",
          "data": {
            "text/plain": [
              "{'Ali': [100, 5, 100],\n",
              " 'Sara': [50, 50, 49],\n",
              " 'Zeeshan': [0, 1, 2],\n",
              " 'Aaina': (8, 9, 10),\n",
              " 'Laraib': ''}"
            ]
          },
          "metadata": {},
          "execution_count": 51
        }
      ]
    },
    {
      "cell_type": "code",
      "source": [
        "d6.keys()"
      ],
      "metadata": {
        "colab": {
          "base_uri": "https://localhost:8080/"
        },
        "id": "i6JMNy_faUY0",
        "outputId": "c61fd08a-aacd-4caf-f1c8-7cf1d38490f4"
      },
      "execution_count": 52,
      "outputs": [
        {
          "output_type": "execute_result",
          "data": {
            "text/plain": [
              "dict_keys(['Ali', 'Sara', 'Zeeshan', 'Aaina', 'Laraib'])"
            ]
          },
          "metadata": {},
          "execution_count": 52
        }
      ]
    },
    {
      "cell_type": "code",
      "source": [
        "d6.values()"
      ],
      "metadata": {
        "colab": {
          "base_uri": "https://localhost:8080/"
        },
        "id": "ajl7AIK3aW_k",
        "outputId": "7c441f14-5f37-4510-c3fa-8722793565b5"
      },
      "execution_count": 53,
      "outputs": [
        {
          "output_type": "execute_result",
          "data": {
            "text/plain": [
              "dict_values([[100, 5, 100], [50, 50, 49], [0, 1, 2], (8, 9, 10), ''])"
            ]
          },
          "metadata": {},
          "execution_count": 53
        }
      ]
    },
    {
      "cell_type": "code",
      "source": [
        "t1 = {\n",
        "    'A' : [1, 2, 3, 4, 5],\n",
        "    'B' : (6, 7, 8, 9, 10),\n",
        "    'C' : {\n",
        "        'Zeeshan' : 'Aftab',\n",
        "        'Hamdan' : 'Sethi',\n",
        "        'Laraib' : {\n",
        "            'Afridi' : 2,\n",
        "            'Khan' : 1,\n",
        "            'Yousafzai' : 0,\n",
        "            'Achakzai' : 4,\n",
        "            'Pukhtoon' : 5,\n",
        "            'Pathan' : 6\n",
        "        }\n",
        "      },\n",
        "    'D' : 'Hello World',\n",
        "    'E' : 999\n",
        "}\n",
        "pprint.pprint(t1)"
      ],
      "metadata": {
        "colab": {
          "base_uri": "https://localhost:8080/"
        },
        "id": "mWS8PF59aZxW",
        "outputId": "cbaa6556-4dec-47c0-e646-aff545b4157a"
      },
      "execution_count": 60,
      "outputs": [
        {
          "output_type": "stream",
          "name": "stdout",
          "text": [
            "{'A': [1, 2, 3, 4, 5],\n",
            " 'B': (6, 7, 8, 9, 10),\n",
            " 'C': {'Hamdan': 'Sethi',\n",
            "       'Laraib': {'Achakzai': 4,\n",
            "                  'Afridi': 2,\n",
            "                  'Khan': 1,\n",
            "                  'Pathan': 6,\n",
            "                  'Pukhtoon': 5,\n",
            "                  'Yousafzai': 0},\n",
            "       'Zeeshan': 'Aftab'},\n",
            " 'D': 'Hello World',\n",
            " 'E': 999}\n"
          ]
        }
      ]
    },
    {
      "cell_type": "code",
      "source": [
        "print(t1)"
      ],
      "metadata": {
        "colab": {
          "base_uri": "https://localhost:8080/"
        },
        "id": "AjSzhdSxiwug",
        "outputId": "2e7d533c-4375-4ff3-8911-2de037cb584f"
      },
      "execution_count": 80,
      "outputs": [
        {
          "output_type": "stream",
          "name": "stdout",
          "text": [
            "{'A': [1, 2, 3, 4, 5], 'B': (6, 7, 8, 9, 10), 'C': {'Zeeshan': 'Aftab', 'Hamdan': 'Sethi', 'Laraib': {'Afridi': 2, 'Khan': 1, 'Achakzai': 4, 'Pukhtoon': 5, 'Pathan': 6}}, 'E': 999}\n"
          ]
        }
      ]
    },
    {
      "cell_type": "code",
      "source": [
        "t1['C']['Laraib']['Yousafzai']"
      ],
      "metadata": {
        "colab": {
          "base_uri": "https://localhost:8080/"
        },
        "id": "Qmu25qgWbuLy",
        "outputId": "e4ff0c3f-c0d2-445e-a7b4-bfee4ad6128f"
      },
      "execution_count": 61,
      "outputs": [
        {
          "output_type": "execute_result",
          "data": {
            "text/plain": [
              "0"
            ]
          },
          "metadata": {},
          "execution_count": 61
        }
      ]
    },
    {
      "cell_type": "code",
      "source": [
        "_get = t1.get('C').get('Laraib').get('Yousafzai')\n",
        "_get"
      ],
      "metadata": {
        "colab": {
          "base_uri": "https://localhost:8080/"
        },
        "id": "-ZElxnSyeGY3",
        "outputId": "888ba148-cfb5-49d4-dacc-165b0300501b"
      },
      "execution_count": 66,
      "outputs": [
        {
          "output_type": "execute_result",
          "data": {
            "text/plain": [
              "0"
            ]
          },
          "metadata": {},
          "execution_count": 66
        }
      ]
    },
    {
      "cell_type": "code",
      "source": [
        "del t1['C']['Laraib']['Yousafzai']\n",
        "t1"
      ],
      "metadata": {
        "colab": {
          "base_uri": "https://localhost:8080/"
        },
        "id": "Of-8XUAUf_pt",
        "outputId": "6fb0da71-aec3-4fed-f2b7-1b10aad14844"
      },
      "execution_count": 69,
      "outputs": [
        {
          "output_type": "execute_result",
          "data": {
            "text/plain": [
              "{'A': [1, 2, 3, 4, 5],\n",
              " 'B': (6, 7, 8, 9, 10),\n",
              " 'C': {'Zeeshan': 'Aftab',\n",
              "  'Hamdan': 'Sethi',\n",
              "  'Laraib': {'Afridi': 2,\n",
              "   'Khan': 1,\n",
              "   'Achakzai': 4,\n",
              "   'Pukhtoon': 5,\n",
              "   'Pathan': 6}},\n",
              " 'D': 'Hello World',\n",
              " 'E': 999}"
            ]
          },
          "metadata": {},
          "execution_count": 69
        }
      ]
    },
    {
      "cell_type": "code",
      "source": [
        "del t1['D']\n",
        "t1"
      ],
      "metadata": {
        "colab": {
          "base_uri": "https://localhost:8080/"
        },
        "id": "OIsmE37mgouU",
        "outputId": "f7943ab2-4a9c-4fa0-f29b-40ff893c14c4"
      },
      "execution_count": 70,
      "outputs": [
        {
          "output_type": "execute_result",
          "data": {
            "text/plain": [
              "{'A': [1, 2, 3, 4, 5],\n",
              " 'B': (6, 7, 8, 9, 10),\n",
              " 'C': {'Zeeshan': 'Aftab',\n",
              "  'Hamdan': 'Sethi',\n",
              "  'Laraib': {'Afridi': 2,\n",
              "   'Khan': 1,\n",
              "   'Achakzai': 4,\n",
              "   'Pukhtoon': 5,\n",
              "   'Pathan': 6}},\n",
              " 'E': 999}"
            ]
          },
          "metadata": {},
          "execution_count": 70
        }
      ]
    },
    {
      "cell_type": "markdown",
      "source": [
        "**PhoneBook**"
      ],
      "metadata": {
        "id": "fOIpvdLvi19w"
      }
    },
    {
      "cell_type": "code",
      "source": [
        "phonebook = {\n",
        "    ('Hamdan', 'Sethi'): 1234567890,\n",
        "    ('Zeeshan', 'Aftab'): 2345678901,\n",
        "    ('Laraib', 'Afridi'): 3456789012,\n",
        "    ('Aaina', 'Batool'): 4567890123,\n",
        "    ('Ali', 'Khan'): 5678901234\n",
        "}\n",
        "pprint.pprint(phonebook)"
      ],
      "metadata": {
        "colab": {
          "base_uri": "https://localhost:8080/"
        },
        "id": "RNYSWKEAhmKL",
        "outputId": "34b32b61-bea1-4f3e-8178-1845cf89fd5a"
      },
      "execution_count": 71,
      "outputs": [
        {
          "output_type": "stream",
          "name": "stdout",
          "text": [
            "{('Aaina', 'Batool'): 4567890123,\n",
            " ('Ali', 'Khan'): 5678901234,\n",
            " ('Hamdan', 'Sethi'): 1234567890,\n",
            " ('Laraib', 'Afridi'): 3456789012,\n",
            " ('Zeeshan', 'Aftab'): 2345678901}\n"
          ]
        }
      ]
    },
    {
      "cell_type": "code",
      "source": [
        "user_input = input('Enter Name: ')\n",
        "lname = user_input.split(' ')\n",
        "lname"
      ],
      "metadata": {
        "colab": {
          "base_uri": "https://localhost:8080/"
        },
        "id": "Nlx9l1HYh63Q",
        "outputId": "35e72653-8963-4d9f-c832-deae5fda1a46"
      },
      "execution_count": 76,
      "outputs": [
        {
          "name": "stdout",
          "output_type": "stream",
          "text": [
            "Enter Name: Hamdan Sethi\n"
          ]
        },
        {
          "output_type": "execute_result",
          "data": {
            "text/plain": [
              "['Hamdan', 'Sethi']"
            ]
          },
          "metadata": {},
          "execution_count": 76
        }
      ]
    },
    {
      "cell_type": "code",
      "source": [
        "if tuple(lname) in phonebook:\n",
        "  print(phonebook[tuple(lname)])\n",
        "else:\n",
        "  print('Not Found')"
      ],
      "metadata": {
        "colab": {
          "base_uri": "https://localhost:8080/"
        },
        "id": "BRK48gSwiRFu",
        "outputId": "1fe22ded-2386-49fd-af01-f30d4e09ee54"
      },
      "execution_count": 86,
      "outputs": [
        {
          "output_type": "stream",
          "name": "stdout",
          "text": [
            "1234567890\n"
          ]
        }
      ]
    },
    {
      "cell_type": "code",
      "source": [
        "A = input('Enter First Name : ')\n",
        "B = input('Enter Last Name : ')\n",
        "print(phonebook[(A, B)])"
      ],
      "metadata": {
        "colab": {
          "base_uri": "https://localhost:8080/",
          "height": 211
        },
        "id": "ybR2eYtWkwRd",
        "outputId": "3c30ba97-52ba-44d6-95d6-123b21cc98cd"
      },
      "execution_count": 88,
      "outputs": [
        {
          "name": "stdout",
          "output_type": "stream",
          "text": [
            "Enter First Name : Aaina\n",
            "Enter Last Name : Sethi\n"
          ]
        },
        {
          "output_type": "error",
          "ename": "KeyError",
          "evalue": "('Aaina', 'Sethi')",
          "traceback": [
            "\u001b[0;31m---------------------------------------------------------------------------\u001b[0m",
            "\u001b[0;31mKeyError\u001b[0m                                  Traceback (most recent call last)",
            "\u001b[0;32m<ipython-input-88-60fb5320532d>\u001b[0m in \u001b[0;36m<cell line: 3>\u001b[0;34m()\u001b[0m\n\u001b[1;32m      1\u001b[0m \u001b[0mA\u001b[0m \u001b[0;34m=\u001b[0m \u001b[0minput\u001b[0m\u001b[0;34m(\u001b[0m\u001b[0;34m'Enter First Name : '\u001b[0m\u001b[0;34m)\u001b[0m\u001b[0;34m\u001b[0m\u001b[0;34m\u001b[0m\u001b[0m\n\u001b[1;32m      2\u001b[0m \u001b[0mB\u001b[0m \u001b[0;34m=\u001b[0m \u001b[0minput\u001b[0m\u001b[0;34m(\u001b[0m\u001b[0;34m'Enter Last Name : '\u001b[0m\u001b[0;34m)\u001b[0m\u001b[0;34m\u001b[0m\u001b[0;34m\u001b[0m\u001b[0m\n\u001b[0;32m----> 3\u001b[0;31m \u001b[0mprint\u001b[0m\u001b[0;34m(\u001b[0m\u001b[0mphonebook\u001b[0m\u001b[0;34m[\u001b[0m\u001b[0;34m(\u001b[0m\u001b[0mA\u001b[0m\u001b[0;34m,\u001b[0m \u001b[0mB\u001b[0m\u001b[0;34m)\u001b[0m\u001b[0;34m]\u001b[0m\u001b[0;34m)\u001b[0m\u001b[0;34m\u001b[0m\u001b[0;34m\u001b[0m\u001b[0m\n\u001b[0m",
            "\u001b[0;31mKeyError\u001b[0m: ('Aaina', 'Sethi')"
          ]
        }
      ]
    }
  ]
}